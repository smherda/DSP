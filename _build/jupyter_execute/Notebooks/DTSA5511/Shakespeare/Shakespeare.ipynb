{
 "cells": [
  {
   "cell_type": "markdown",
   "id": "85212b1b-c3c8-482b-958b-205d28623989",
   "metadata": {},
   "source": [
    "# DTSA 5511: Deep Learning of Shakespeare Quotes\n",
    "## Introduction to Deep Learning"
   ]
  },
  {
   "cell_type": "markdown",
   "id": "23a09ecf-053f-4f10-971e-5ac98c350096",
   "metadata": {},
   "source": [
    "## Topic"
   ]
  },
  {
   "cell_type": "markdown",
   "id": "6445fe52-b916-413e-a0a4-d8d459ebde76",
   "metadata": {},
   "source": [
    "The following is going to be a report that takes lines from Shakespeare quotes and attempts to create a RNN or Recurrent Neural Network to generate text that resembles that style of writing. The BLEAU and diversity score will be used to evaluate whether the model is a good fit or not. There will be multiple hyperparameters adjusted to refine the model and a human subject will review the output of the text to see if this matches the Shakespeare format correctly. This line of work is important for those that wish to emulate the speech and writing patterns of Shakespeare or other languages. Such methods can be important when it comes to language preservation and speech emulation. "
   ]
  },
  {
   "cell_type": "markdown",
   "id": "d81985b2-c79d-4fbf-b5f4-d2280a0ae4f5",
   "metadata": {},
   "source": [
    "## Data"
   ]
  },
  {
   "cell_type": "markdown",
   "id": "de589b51-d167-4c0f-ad3a-dba0ce2999fd",
   "metadata": {},
   "source": [
    "#### Summary"
   ]
  },
  {
   "cell_type": "markdown",
   "id": "e0f06a32-8ae4-4889-8bba-b8d135e032fc",
   "metadata": {},
   "source": [
    "The following data was pulled from a Kaggle CSV file that was available publically. There is APA citation at the end of this report for those who wish to see more information. The CSV file is called \"Shakespeare_data\" and information about the data types or size is shown below."
   ]
  },
  {
   "cell_type": "markdown",
   "id": "44c49c93-5e33-4e6a-82ec-095265e89b8e",
   "metadata": {},
   "source": [
    "#### Install Packages"
   ]
  },
  {
   "cell_type": "code",
   "execution_count": 1,
   "id": "2dee2423-da88-44ec-b859-7367246a3c9d",
   "metadata": {},
   "outputs": [
    {
     "name": "stdout",
     "output_type": "stream",
     "text": [
      "Requirement already satisfied: squarify in c:\\users\\staci\\anaconda3\\lib\\site-packages (0.4.3)\n"
     ]
    },
    {
     "name": "stdout",
     "output_type": "stream",
     "text": [
      "Requirement already satisfied: wordcloud in c:\\users\\staci\\anaconda3\\lib\\site-packages (1.9.2)\n",
      "Requirement already satisfied: numpy>=1.6.1 in c:\\users\\staci\\anaconda3\\lib\\site-packages (from wordcloud) (1.21.6)\n",
      "Requirement already satisfied: pillow in c:\\users\\staci\\anaconda3\\lib\\site-packages (from wordcloud) (9.3.0)\n",
      "Requirement already satisfied: matplotlib in c:\\users\\staci\\anaconda3\\lib\\site-packages (from wordcloud) (3.5.3)\n",
      "Requirement already satisfied: cycler>=0.10 in c:\\users\\staci\\anaconda3\\lib\\site-packages (from matplotlib->wordcloud) (0.11.0)\n",
      "Requirement already satisfied: fonttools>=4.22.0 in c:\\users\\staci\\anaconda3\\lib\\site-packages (from matplotlib->wordcloud) (4.25.0)\n",
      "Requirement already satisfied: kiwisolver>=1.0.1 in c:\\users\\staci\\anaconda3\\lib\\site-packages (from matplotlib->wordcloud) (1.4.4)\n",
      "Requirement already satisfied: packaging>=20.0 in c:\\users\\staci\\anaconda3\\lib\\site-packages (from matplotlib->wordcloud) (23.1)\n",
      "Requirement already satisfied: pyparsing>=2.2.1 in c:\\users\\staci\\anaconda3\\lib\\site-packages (from matplotlib->wordcloud) (3.1.0)\n",
      "Requirement already satisfied: python-dateutil>=2.7 in c:\\users\\staci\\anaconda3\\lib\\site-packages (from matplotlib->wordcloud) (2.8.2)\n",
      "Requirement already satisfied: typing-extensions in c:\\users\\staci\\anaconda3\\lib\\site-packages (from kiwisolver>=1.0.1->matplotlib->wordcloud) (4.7.1)\n",
      "Requirement already satisfied: six>=1.5 in c:\\users\\staci\\anaconda3\\lib\\site-packages (from python-dateutil>=2.7->matplotlib->wordcloud) (1.16.0)\n"
     ]
    },
    {
     "name": "stdout",
     "output_type": "stream",
     "text": [
      "Requirement already satisfied: pillow in c:\\users\\staci\\anaconda3\\lib\\site-packages (9.3.0)\n"
     ]
    }
   ],
   "source": [
    "!pip install squarify\n",
    "!pip install wordcloud\n",
    "!pip install pillow"
   ]
  },
  {
   "cell_type": "markdown",
   "id": "5e800894-748a-446a-aca9-3891e9147211",
   "metadata": {
    "tags": []
   },
   "source": [
    "#### Import Libraries"
   ]
  },
  {
   "cell_type": "code",
   "execution_count": 2,
   "id": "756fb0b9-e7fc-42df-9810-4dc37efa3569",
   "metadata": {},
   "outputs": [],
   "source": [
    "import numpy as np\n",
    "import pandas as pd\n",
    "import nltk\n",
    "import tensorflow as tf\n",
    "from keras.models import Sequential\n",
    "from keras.layers import LSTM, Dense\n",
    "from keras.callbacks import LambdaCallback\n",
    "from nltk.translate.bleu_score import sentence_bleu, SmoothingFunction\n",
    "import matplotlib.pyplot as plt\n",
    "import squarify\n",
    "import warnings"
   ]
  },
  {
   "cell_type": "markdown",
   "id": "5c699738-633f-4bc0-8856-6d48152a6f8c",
   "metadata": {},
   "source": [
    "#### Hide Unneccessary Warnings"
   ]
  },
  {
   "cell_type": "code",
   "execution_count": 3,
   "id": "15c6057a-ecea-412b-aed6-11ca4fade3a4",
   "metadata": {},
   "outputs": [],
   "source": [
    "warnings.filterwarnings(\"ignore\")"
   ]
  },
  {
   "cell_type": "markdown",
   "id": "5a1dc4ad-6482-4476-aba2-7df00a2ee12a",
   "metadata": {},
   "source": [
    "#### Read Files from CSV"
   ]
  },
  {
   "cell_type": "code",
   "execution_count": 4,
   "id": "c6fceec5-ba83-45db-b6b1-6fb9c5d9f2a8",
   "metadata": {},
   "outputs": [],
   "source": [
    "# Read from CSV\n",
    "df_csv = pd.read_csv('./Shakespeare_data.csv')\n",
    "\n",
    "# Save to Separate Data Frame\n",
    "df = df_csv"
   ]
  },
  {
   "cell_type": "markdown",
   "id": "370c7a94-1ca8-47ee-8d07-d12416010239",
   "metadata": {},
   "source": [
    "#### Space and Size"
   ]
  },
  {
   "cell_type": "markdown",
   "id": "fc0cd8f9-197a-444f-be9a-c54e0f321efc",
   "metadata": {},
   "source": [
    "The space and size for the data frame before preprocesesing is shown below. Output is the memory, column size, and row size."
   ]
  },
  {
   "cell_type": "code",
   "execution_count": 5,
   "id": "b7122b90-3886-4056-8eca-93b807eab8bd",
   "metadata": {},
   "outputs": [
    {
     "name": "stdout",
     "output_type": "stream",
     "text": [
      "Memory: 5347136 bytes\n",
      "Rows: 111396\n",
      "Columns: 6\n"
     ]
    }
   ],
   "source": [
    "# Function for Checking Memory and Size\n",
    "def MemCheck(df):\n",
    "    # Get Data Frame Space\n",
    "    try:\n",
    "        df_mem = df.memory_usage().sum()\n",
    "        num_row, num_col = df.shape\n",
    "        \n",
    "    except:\n",
    "        df_mem = df.memory_usage()\n",
    "        num_row, num_col = df.shape[0], 1\n",
    "\n",
    "    print(\"Memory:\", df_mem, \"bytes\")\n",
    "    print(\"Rows:\", num_row)\n",
    "    print(\"Columns:\", num_col)\n",
    "    \n",
    "MemCheck(df_csv)"
   ]
  },
  {
   "cell_type": "markdown",
   "id": "9c81597a-6bf0-438b-bcf7-0f9e1aa40353",
   "metadata": {
    "tags": []
   },
   "source": [
    "#### Evaluate the data types and column names. "
   ]
  },
  {
   "cell_type": "markdown",
   "id": "d832d37b-f0d7-4119-b5e3-b390e3d03b9b",
   "metadata": {},
   "source": [
    "Below is are the columns and the data types for each. There is an integer (in64), strings (object_), and a float (float64). "
   ]
  },
  {
   "cell_type": "code",
   "execution_count": 6,
   "id": "03ab5440-dca6-4a89-87bf-72e2aa95d02e",
   "metadata": {
    "tags": []
   },
   "outputs": [
    {
     "name": "stdout",
     "output_type": "stream",
     "text": [
      "'Dataline': <class 'numpy.dtype[int64]'>\n",
      "'Play': <class 'numpy.dtype[object_]'>\n",
      "'PlayerLinenumber': <class 'numpy.dtype[float64]'>\n",
      "'ActSceneLine': <class 'numpy.dtype[object_]'>\n",
      "'Player': <class 'numpy.dtype[object_]'>\n",
      "'PlayerLine': <class 'numpy.dtype[object_]'>\n"
     ]
    }
   ],
   "source": [
    "for col in df.columns:  \n",
    "    print(\"'\" + col + \"': \" + str(type(df[col].dtype)))"
   ]
  },
  {
   "cell_type": "code",
   "execution_count": 7,
   "id": "cf584e46-fdcc-49ee-8cf5-4b4e77eba9bf",
   "metadata": {},
   "outputs": [
    {
     "data": {
      "text/html": [
       "<div>\n",
       "<style scoped>\n",
       "    .dataframe tbody tr th:only-of-type {\n",
       "        vertical-align: middle;\n",
       "    }\n",
       "\n",
       "    .dataframe tbody tr th {\n",
       "        vertical-align: top;\n",
       "    }\n",
       "\n",
       "    .dataframe thead th {\n",
       "        text-align: right;\n",
       "    }\n",
       "</style>\n",
       "<table border=\"1\" class=\"dataframe\">\n",
       "  <thead>\n",
       "    <tr style=\"text-align: right;\">\n",
       "      <th></th>\n",
       "      <th>Dataline</th>\n",
       "      <th>Play</th>\n",
       "      <th>PlayerLinenumber</th>\n",
       "      <th>ActSceneLine</th>\n",
       "      <th>Player</th>\n",
       "      <th>PlayerLine</th>\n",
       "    </tr>\n",
       "  </thead>\n",
       "  <tbody>\n",
       "    <tr>\n",
       "      <th>0</th>\n",
       "      <td>1</td>\n",
       "      <td>Henry IV</td>\n",
       "      <td>NaN</td>\n",
       "      <td>NaN</td>\n",
       "      <td>NaN</td>\n",
       "      <td>ACT I</td>\n",
       "    </tr>\n",
       "    <tr>\n",
       "      <th>1</th>\n",
       "      <td>2</td>\n",
       "      <td>Henry IV</td>\n",
       "      <td>NaN</td>\n",
       "      <td>NaN</td>\n",
       "      <td>NaN</td>\n",
       "      <td>SCENE I. London. The palace.</td>\n",
       "    </tr>\n",
       "    <tr>\n",
       "      <th>2</th>\n",
       "      <td>3</td>\n",
       "      <td>Henry IV</td>\n",
       "      <td>NaN</td>\n",
       "      <td>NaN</td>\n",
       "      <td>NaN</td>\n",
       "      <td>Enter KING HENRY, LORD JOHN OF LANCASTER, the ...</td>\n",
       "    </tr>\n",
       "    <tr>\n",
       "      <th>3</th>\n",
       "      <td>4</td>\n",
       "      <td>Henry IV</td>\n",
       "      <td>1.0</td>\n",
       "      <td>1.1.1</td>\n",
       "      <td>KING HENRY IV</td>\n",
       "      <td>So shaken as we are, so wan with care,</td>\n",
       "    </tr>\n",
       "    <tr>\n",
       "      <th>4</th>\n",
       "      <td>5</td>\n",
       "      <td>Henry IV</td>\n",
       "      <td>1.0</td>\n",
       "      <td>1.1.2</td>\n",
       "      <td>KING HENRY IV</td>\n",
       "      <td>Find we a time for frighted peace to pant,</td>\n",
       "    </tr>\n",
       "  </tbody>\n",
       "</table>\n",
       "</div>"
      ],
      "text/plain": [
       "   Dataline      Play  PlayerLinenumber ActSceneLine         Player  \\\n",
       "0         1  Henry IV               NaN          NaN            NaN   \n",
       "1         2  Henry IV               NaN          NaN            NaN   \n",
       "2         3  Henry IV               NaN          NaN            NaN   \n",
       "3         4  Henry IV               1.0        1.1.1  KING HENRY IV   \n",
       "4         5  Henry IV               1.0        1.1.2  KING HENRY IV   \n",
       "\n",
       "                                          PlayerLine  \n",
       "0                                              ACT I  \n",
       "1                       SCENE I. London. The palace.  \n",
       "2  Enter KING HENRY, LORD JOHN OF LANCASTER, the ...  \n",
       "3             So shaken as we are, so wan with care,  \n",
       "4         Find we a time for frighted peace to pant,  "
      ]
     },
     "execution_count": 7,
     "metadata": {},
     "output_type": "execute_result"
    }
   ],
   "source": [
    "# Review\n",
    "df.head(5)"
   ]
  },
  {
   "cell_type": "markdown",
   "id": "3c4be35e-0562-4290-bc40-1e71bbdd880d",
   "metadata": {},
   "source": [
    "## Data Preprocessing and Cleaning"
   ]
  },
  {
   "cell_type": "markdown",
   "id": "7a32b679-af3c-47bb-8d2b-3e3b3ca49edc",
   "metadata": {
    "tags": []
   },
   "source": [
    "#### Removal of Features"
   ]
  },
  {
   "cell_type": "markdown",
   "id": "000fb4ee-2799-43fb-b52f-03c8fd71bfe1",
   "metadata": {},
   "source": [
    "Since the speaking patterns are going to be evaluated in this data set, the 'PlayerLine' column is the only one that is going to be extracted. "
   ]
  },
  {
   "cell_type": "code",
   "execution_count": 8,
   "id": "177b3bed-929c-4bb8-ad17-1a4062eb4243",
   "metadata": {},
   "outputs": [],
   "source": [
    "df_sing = df['PlayerLine']"
   ]
  },
  {
   "cell_type": "markdown",
   "id": "56a503de-285a-4db3-9161-f414b649553e",
   "metadata": {},
   "source": [
    "#### Removal of Rows with NA Values"
   ]
  },
  {
   "cell_type": "markdown",
   "id": "93eee253-7121-43d0-883d-0a2b5ea77c5f",
   "metadata": {},
   "source": [
    "Since the data frame has a significant amount of rows, any NA rows can be dropped. The before and after processing sizes of the data frame will be checked to confirm that there still is enough data for processing. Since this is a single column evaluated, other NAs from different columns interferring with the code below isn't an issue."
   ]
  },
  {
   "cell_type": "code",
   "execution_count": 9,
   "id": "df3d652e-3895-40a9-bdb6-69e343fdc779",
   "metadata": {},
   "outputs": [],
   "source": [
    "# Remove Rows with NA Values\n",
    "df_na = df_sing.dropna()"
   ]
  },
  {
   "cell_type": "markdown",
   "id": "5326c3fd-3873-495b-8188-e06ae9ce82e6",
   "metadata": {},
   "source": [
    "#### Duplicates\n",
    "The only time there would be a duplicate is if Shakespeare wrote the same line multiple times or there was an issue with the scraping. Thus, these instances are removed from the data frame."
   ]
  },
  {
   "cell_type": "code",
   "execution_count": 10,
   "id": "adaecf31-5aa9-423e-a095-971e75b9ab4c",
   "metadata": {},
   "outputs": [],
   "source": [
    "df_unique = df_na.drop_duplicates()"
   ]
  },
  {
   "cell_type": "markdown",
   "id": "309730a5-4ccc-449f-8243-0039344d1f38",
   "metadata": {},
   "source": [
    "#### Space and Size"
   ]
  },
  {
   "cell_type": "markdown",
   "id": "490c6783-1dff-4987-b127-13949aa14223",
   "metadata": {},
   "source": [
    "The space and size for the data frame before and after preprocessing is shown below."
   ]
  },
  {
   "cell_type": "code",
   "execution_count": 11,
   "id": "007e6eb1-3322-471e-b5d8-37f181f420fb",
   "metadata": {},
   "outputs": [
    {
     "name": "stdout",
     "output_type": "stream",
     "text": [
      "Before\n",
      "Memory: 5347136 bytes\n",
      "Rows: 111396\n",
      "Columns: 6\n",
      "\n",
      "After\n",
      "Memory: 1721280 bytes\n",
      "Rows: 107580\n",
      "Columns: 1\n"
     ]
    }
   ],
   "source": [
    "print(\"Before\")\n",
    "MemCheck(df)\n",
    "print()\n",
    "print(\"After\")\n",
    "MemCheck(df_unique)"
   ]
  },
  {
   "cell_type": "markdown",
   "id": "23a24fe1-7454-48a9-ac62-9baafa0fdf45",
   "metadata": {},
   "source": [
    "#### Discussion and Conclusions\n",
    "The memory is shown to shrink by a significan amount. However, this paper isn't concerned with this because most of the information lost comes from reducing the column count from six to one. The rows are also removed due to the processing, but there is still more than enough for this study. "
   ]
  },
  {
   "cell_type": "markdown",
   "id": "0fc4a58a-b87f-4dcf-927c-cc31020275da",
   "metadata": {
    "tags": []
   },
   "source": [
    "## Exploratory Data Analysis (EDA)\n",
    "#### Purpose\n",
    "Due to the sheer amount of size of the data, EDA was necessary. A histogram of the word count and a tree map to show the words present is created in this section."
   ]
  },
  {
   "cell_type": "markdown",
   "id": "66035531-96fb-4161-a20a-bc23ddaaaaed",
   "metadata": {},
   "source": [
    "#### Histogram"
   ]
  },
  {
   "cell_type": "code",
   "execution_count": 12,
   "id": "67f49644-781f-461a-8cad-0dd7320a738b",
   "metadata": {},
   "outputs": [
    {
     "ename": "NameError",
     "evalue": "name 'words_to_remove' is not defined",
     "output_type": "error",
     "traceback": [
      "\u001b[1;31m---------------------------------------------------------------------------\u001b[0m",
      "\u001b[1;31mNameError\u001b[0m                                 Traceback (most recent call last)",
      "\u001b[1;32m~\\AppData\\Local\\Temp\\ipykernel_8032\\1159385978.py\u001b[0m in \u001b[0;36m<module>\u001b[1;34m\u001b[0m\n\u001b[0;32m     42\u001b[0m     \u001b[1;32mreturn\u001b[0m \u001b[0mpd\u001b[0m\u001b[1;33m.\u001b[0m\u001b[0mDataFrame\u001b[0m\u001b[1;33m(\u001b[0m\u001b[1;33m[\u001b[0m\u001b[0mlabels\u001b[0m\u001b[1;33m,\u001b[0m \u001b[0mcounts\u001b[0m\u001b[1;33m]\u001b[0m\u001b[1;33m)\u001b[0m\u001b[1;33m\u001b[0m\u001b[1;33m\u001b[0m\u001b[0m\n\u001b[0;32m     43\u001b[0m \u001b[1;33m\u001b[0m\u001b[0m\n\u001b[1;32m---> 44\u001b[1;33m \u001b[0mdf_hist\u001b[0m \u001b[1;33m=\u001b[0m \u001b[0mgen_gram\u001b[0m\u001b[1;33m(\u001b[0m\u001b[0mdf_unique\u001b[0m\u001b[1;33m)\u001b[0m\u001b[1;33m\u001b[0m\u001b[1;33m\u001b[0m\u001b[0m\n\u001b[0m",
      "\u001b[1;32m~\\AppData\\Local\\Temp\\ipykernel_8032\\1159385978.py\u001b[0m in \u001b[0;36mgen_gram\u001b[1;34m(df)\u001b[0m\n\u001b[0;32m      5\u001b[0m     \u001b[0mall_text\u001b[0m \u001b[1;33m=\u001b[0m \u001b[1;34m' '\u001b[0m\u001b[1;33m.\u001b[0m\u001b[0mjoin\u001b[0m\u001b[1;33m(\u001b[0m\u001b[0mdf\u001b[0m\u001b[1;33m.\u001b[0m\u001b[0mvalues\u001b[0m\u001b[1;33m)\u001b[0m\u001b[1;33m\u001b[0m\u001b[1;33m\u001b[0m\u001b[0m\n\u001b[0;32m      6\u001b[0m     \u001b[0mwords\u001b[0m \u001b[1;33m=\u001b[0m \u001b[0mall_text\u001b[0m\u001b[1;33m.\u001b[0m\u001b[0msplit\u001b[0m\u001b[1;33m(\u001b[0m\u001b[1;33m)\u001b[0m\u001b[1;33m\u001b[0m\u001b[1;33m\u001b[0m\u001b[0m\n\u001b[1;32m----> 7\u001b[1;33m     \u001b[0mword_filt\u001b[0m \u001b[1;33m=\u001b[0m \u001b[1;33m[\u001b[0m\u001b[0mword\u001b[0m \u001b[1;32mfor\u001b[0m \u001b[0mword\u001b[0m \u001b[1;32min\u001b[0m \u001b[0mwords\u001b[0m \u001b[1;32mif\u001b[0m \u001b[0mword\u001b[0m\u001b[1;33m.\u001b[0m\u001b[0mlower\u001b[0m\u001b[1;33m(\u001b[0m\u001b[1;33m)\u001b[0m \u001b[1;32mnot\u001b[0m \u001b[1;32min\u001b[0m \u001b[1;33m[\u001b[0m\u001b[0mw\u001b[0m\u001b[1;33m.\u001b[0m\u001b[0mlower\u001b[0m\u001b[1;33m(\u001b[0m\u001b[1;33m)\u001b[0m \u001b[1;32mfor\u001b[0m \u001b[0mw\u001b[0m \u001b[1;32min\u001b[0m \u001b[0mwords_to_remove\u001b[0m\u001b[1;33m]\u001b[0m\u001b[1;33m]\u001b[0m\u001b[1;33m\u001b[0m\u001b[1;33m\u001b[0m\u001b[0m\n\u001b[0m\u001b[0;32m      8\u001b[0m \u001b[1;33m\u001b[0m\u001b[0m\n\u001b[0;32m      9\u001b[0m     \u001b[1;31m# Count Occurance\u001b[0m\u001b[1;33m\u001b[0m\u001b[1;33m\u001b[0m\u001b[1;33m\u001b[0m\u001b[0m\n",
      "\u001b[1;32m~\\AppData\\Local\\Temp\\ipykernel_8032\\1159385978.py\u001b[0m in \u001b[0;36m<listcomp>\u001b[1;34m(.0)\u001b[0m\n\u001b[0;32m      5\u001b[0m     \u001b[0mall_text\u001b[0m \u001b[1;33m=\u001b[0m \u001b[1;34m' '\u001b[0m\u001b[1;33m.\u001b[0m\u001b[0mjoin\u001b[0m\u001b[1;33m(\u001b[0m\u001b[0mdf\u001b[0m\u001b[1;33m.\u001b[0m\u001b[0mvalues\u001b[0m\u001b[1;33m)\u001b[0m\u001b[1;33m\u001b[0m\u001b[1;33m\u001b[0m\u001b[0m\n\u001b[0;32m      6\u001b[0m     \u001b[0mwords\u001b[0m \u001b[1;33m=\u001b[0m \u001b[0mall_text\u001b[0m\u001b[1;33m.\u001b[0m\u001b[0msplit\u001b[0m\u001b[1;33m(\u001b[0m\u001b[1;33m)\u001b[0m\u001b[1;33m\u001b[0m\u001b[1;33m\u001b[0m\u001b[0m\n\u001b[1;32m----> 7\u001b[1;33m     \u001b[0mword_filt\u001b[0m \u001b[1;33m=\u001b[0m \u001b[1;33m[\u001b[0m\u001b[0mword\u001b[0m \u001b[1;32mfor\u001b[0m \u001b[0mword\u001b[0m \u001b[1;32min\u001b[0m \u001b[0mwords\u001b[0m \u001b[1;32mif\u001b[0m \u001b[0mword\u001b[0m\u001b[1;33m.\u001b[0m\u001b[0mlower\u001b[0m\u001b[1;33m(\u001b[0m\u001b[1;33m)\u001b[0m \u001b[1;32mnot\u001b[0m \u001b[1;32min\u001b[0m \u001b[1;33m[\u001b[0m\u001b[0mw\u001b[0m\u001b[1;33m.\u001b[0m\u001b[0mlower\u001b[0m\u001b[1;33m(\u001b[0m\u001b[1;33m)\u001b[0m \u001b[1;32mfor\u001b[0m \u001b[0mw\u001b[0m \u001b[1;32min\u001b[0m \u001b[0mwords_to_remove\u001b[0m\u001b[1;33m]\u001b[0m\u001b[1;33m]\u001b[0m\u001b[1;33m\u001b[0m\u001b[1;33m\u001b[0m\u001b[0m\n\u001b[0m\u001b[0;32m      8\u001b[0m \u001b[1;33m\u001b[0m\u001b[0m\n\u001b[0;32m      9\u001b[0m     \u001b[1;31m# Count Occurance\u001b[0m\u001b[1;33m\u001b[0m\u001b[1;33m\u001b[0m\u001b[1;33m\u001b[0m\u001b[0m\n",
      "\u001b[1;31mNameError\u001b[0m: name 'words_to_remove' is not defined"
     ]
    }
   ],
   "source": [
    "# Function to Generate Word Histogram\n",
    "def gen_gram(df):\n",
    "    \n",
    "    # Concatenate all the Text, Split, and Get Words\n",
    "    all_text = ' '.join(df.values)\n",
    "    words = all_text.split()\n",
    "    word_filt = [word for word in words if word.lower() not in [w.lower() for w in words_to_remove]]\n",
    "\n",
    "    # Count Occurance\n",
    "    word_cnt = {}\n",
    "    for word in word_filt:\n",
    "        if word not in word_cnt:\n",
    "            word_cnt[word] = 1\n",
    "        else:\n",
    "            word_cnt[word] += 1\n",
    "\n",
    "    # Sort Words\n",
    "    word_sort = sorted(word_cnt.items(), key=lambda x: x[1], reverse=True)\n",
    "\n",
    "    # Get Top 50 Words\n",
    "    word_top = word_sort[:50]\n",
    "\n",
    "    # Define Lists\n",
    "    labels = []\n",
    "    counts = []\n",
    "    \n",
    "    # Get Labels and Count\n",
    "    for word, count in word_top:\n",
    "        labels.append(word)\n",
    "        counts.append(count)\n",
    "\n",
    "    # Plot the histogram\n",
    "    plt.figure(figsize=(10, 6))\n",
    "    plt.bar(labels, counts)\n",
    "    plt.xlabel('Words')\n",
    "    plt.ylabel('Counts')\n",
    "    plt.title('Top 50 Words')\n",
    "    plt.xticks(rotation=90)\n",
    "    plt.tight_layout()\n",
    "    plt.show()\n",
    "    \n",
    "    return pd.DataFrame([labels, counts])\n",
    "\n",
    "df_hist = gen_gram(df_unique)"
   ]
  },
  {
   "cell_type": "markdown",
   "id": "e2a17c75-8d22-4350-9ea8-31e5fa234620",
   "metadata": {},
   "source": [
    "#### Word Count Table"
   ]
  },
  {
   "cell_type": "code",
   "execution_count": 146,
   "id": "7e651125-4533-447a-9c4b-380d1f0ac4b5",
   "metadata": {},
   "outputs": [
    {
     "data": {
      "text/html": [
       "<div>\n",
       "<style scoped>\n",
       "    .dataframe tbody tr th:only-of-type {\n",
       "        vertical-align: middle;\n",
       "    }\n",
       "\n",
       "    .dataframe tbody tr th {\n",
       "        vertical-align: top;\n",
       "    }\n",
       "\n",
       "    .dataframe thead th {\n",
       "        text-align: right;\n",
       "    }\n",
       "</style>\n",
       "<table border=\"1\" class=\"dataframe\">\n",
       "  <thead>\n",
       "    <tr style=\"text-align: right;\">\n",
       "      <th></th>\n",
       "      <th>0</th>\n",
       "      <th>1</th>\n",
       "      <th>2</th>\n",
       "      <th>3</th>\n",
       "      <th>4</th>\n",
       "      <th>5</th>\n",
       "      <th>6</th>\n",
       "      <th>7</th>\n",
       "      <th>8</th>\n",
       "      <th>9</th>\n",
       "      <th>...</th>\n",
       "      <th>40</th>\n",
       "      <th>41</th>\n",
       "      <th>42</th>\n",
       "      <th>43</th>\n",
       "      <th>44</th>\n",
       "      <th>45</th>\n",
       "      <th>46</th>\n",
       "      <th>47</th>\n",
       "      <th>48</th>\n",
       "      <th>49</th>\n",
       "    </tr>\n",
       "  </thead>\n",
       "  <tbody>\n",
       "    <tr>\n",
       "      <th>0</th>\n",
       "      <td>the</td>\n",
       "      <td>I</td>\n",
       "      <td>and</td>\n",
       "      <td>to</td>\n",
       "      <td>of</td>\n",
       "      <td>a</td>\n",
       "      <td>my</td>\n",
       "      <td>in</td>\n",
       "      <td>you</td>\n",
       "      <td>is</td>\n",
       "      <td>...</td>\n",
       "      <td>we</td>\n",
       "      <td>no</td>\n",
       "      <td>on</td>\n",
       "      <td>from</td>\n",
       "      <td>what</td>\n",
       "      <td>at</td>\n",
       "      <td>But</td>\n",
       "      <td>if</td>\n",
       "      <td>good</td>\n",
       "      <td>would</td>\n",
       "    </tr>\n",
       "    <tr>\n",
       "      <th>1</th>\n",
       "      <td>23187</td>\n",
       "      <td>18834</td>\n",
       "      <td>17597</td>\n",
       "      <td>14998</td>\n",
       "      <td>14621</td>\n",
       "      <td>12021</td>\n",
       "      <td>10215</td>\n",
       "      <td>9185</td>\n",
       "      <td>8798</td>\n",
       "      <td>7560</td>\n",
       "      <td>...</td>\n",
       "      <td>2516</td>\n",
       "      <td>2375</td>\n",
       "      <td>2326</td>\n",
       "      <td>2189</td>\n",
       "      <td>2167</td>\n",
       "      <td>2151</td>\n",
       "      <td>2008</td>\n",
       "      <td>1988</td>\n",
       "      <td>1962</td>\n",
       "      <td>1943</td>\n",
       "    </tr>\n",
       "  </tbody>\n",
       "</table>\n",
       "<p>2 rows × 50 columns</p>\n",
       "</div>"
      ],
      "text/plain": [
       "      0      1      2      3      4      5      6     7     8     9   ...  \\\n",
       "0    the      I    and     to     of      a     my    in   you    is  ...   \n",
       "1  23187  18834  17597  14998  14621  12021  10215  9185  8798  7560  ...   \n",
       "\n",
       "     40    41    42    43    44    45    46    47    48     49  \n",
       "0    we    no    on  from  what    at   But    if  good  would  \n",
       "1  2516  2375  2326  2189  2167  2151  2008  1988  1962   1943  \n",
       "\n",
       "[2 rows x 50 columns]"
      ]
     },
     "execution_count": 146,
     "metadata": {},
     "output_type": "execute_result"
    }
   ],
   "source": [
    "df_hist.head(50)"
   ]
  },
  {
   "cell_type": "markdown",
   "id": "945e60f2-e4b6-4ee6-b259-e69a156afead",
   "metadata": {},
   "source": [
    "#### Tree Map"
   ]
  },
  {
   "cell_type": "markdown",
   "id": "09593b3e-6163-4b64-9304-75a70409bf7a",
   "metadata": {},
   "source": [
    "Next, is a tree map that is used to give a visualization of the proportions of words to one another."
   ]
  },
  {
   "cell_type": "code",
   "execution_count": 147,
   "id": "0731eef8-0440-48e9-b81e-35076bc60ff2",
   "metadata": {},
   "outputs": [
    {
     "data": {
      "image/png": "[encoded data removed]",
      "text/plain": [
       "<Figure size 1200x800 with 1 Axes>"
      ]
     },
     "metadata": {},
     "output_type": "display_data"
    }
   ],
   "source": [
    "# Function for Tree Map\n",
    "def create_treemap(df, n=50):\n",
    "    \n",
    "    # Concatenate and Split Text\n",
    "    all_text = ' '.join(df.values)\n",
    "    words = all_text.split()\n",
    "\n",
    "    # Count Words\n",
    "    word_counts = pd.Series(words).value_counts()\n",
    "\n",
    "    # Select Top Words\n",
    "    top_words = word_counts.head(n)\n",
    "\n",
    "    # Normalize\n",
    "    norm_counts = top_words / top_words.sum()\n",
    "\n",
    "    # Create labels for the treemap\n",
    "    labels = [f\"{word} ({count})\" for word, count in zip(top_words.index, top_words.values)]\n",
    "\n",
    "    # Generate the treemap\n",
    "    plt.figure(figsize=(12, 8))\n",
    "    squarify.plot(sizes=norm_counts.values, label=labels, text_kwargs={'fontsize': 10})\n",
    "    plt.axis('off')\n",
    "    plt.title('Top 50 Words Treemap')\n",
    "    plt.show()\n",
    "\n",
    "# Create Tree Map\n",
    "create_treemap(df_unique, n=50)\n"
   ]
  },
  {
   "cell_type": "markdown",
   "id": "872bba3b-5421-4e8b-b9be-00f06f52e4e8",
   "metadata": {},
   "source": [
    "The most common words are stop words which do not contribute to the sentiment of the text. "
   ]
  },
  {
   "cell_type": "markdown",
   "id": "32ab78b2-053a-421b-91e9-23f86dac7c48",
   "metadata": {
    "tags": []
   },
   "source": [
    "#### Difficulties "
   ]
  },
  {
   "cell_type": "markdown",
   "id": "e2cc8407-72f4-4f47-9323-989af486609d",
   "metadata": {},
   "source": [
    "There is an issue with articles, pronouns, and conjunctions being a large part of the data set. This is a natural byproduct of the English language. With more preprocessing and a dictionary of these common filler words, the terms can be removed for a more accurate visualization of word counts specific to the Shakespeare lexicon.|"
   ]
  },
  {
   "cell_type": "markdown",
   "id": "c44f702c-842b-45ed-8bfd-d7ed95796ab4",
   "metadata": {},
   "source": [
    "#### Summary, Discussion, and Findings"
   ]
  },
  {
   "cell_type": "markdown",
   "id": "94e856cd-2aea-42ec-88e2-4caa21421c01",
   "metadata": {},
   "source": [
    "Surprisingly, but with hindesight not completely unexpected, the terms that are dominating the word count and tree map are those that are common to the English language. What might be of slight interest is that the term \"I\" is the second most common placing an importance on the speaker in Shakespearian writing."
   ]
  },
  {
   "cell_type": "markdown",
   "id": "e224e82b-87ad-4574-8b65-32c807ccf27b",
   "metadata": {},
   "source": [
    "#### Conclusions "
   ]
  },
  {
   "cell_type": "markdown",
   "id": "7cee2b8f-7f04-4b03-a847-dd4bb9fd1b81",
   "metadata": {},
   "source": [
    "In future work, a library which has the most common artifacts of the English language which do not help with finding the specifics of a speaker's language, should be utilized to remove these terms for a more accurate representation of the text's lexicon."
   ]
  },
  {
   "cell_type": "markdown",
   "id": "b372ec9e-df77-4957-90e7-0f9d9154fbc7",
   "metadata": {},
   "source": [
    "## Results"
   ]
  },
  {
   "cell_type": "markdown",
   "id": "e30f2c9a-466a-4f69-9cf6-047352dba4b9",
   "metadata": {},
   "source": [
    "#### Summary"
   ]
  },
  {
   "cell_type": "markdown",
   "id": "8d2986b8-832d-4cef-aa1c-a0b2a2efd9bc",
   "metadata": {},
   "source": [
    "The following is the RNN with the sample text and evaluation metrics as output. The RNN first converts the characters to integers and vice-versa to map these to mathematical values the layers can process. Next, the input values are cut into sequences that run through the neural net. The RNN is composed of a LSTM model, ReLU dense layer, and a softmax layer. The layer is compiled and ran through multiple hyperparameters such as the epochs and temperature values to produce text and find optimal values. The output text is evaluated through the BLEU and diversity metric. RNN are known for having a specialty in analyzing text being sequential, able to have long-term dependencies, and able to infer information based on values surrounding others. That is why this model was chosen compared to a GAN or CNN. When it comes to model specifics, the values were fine-tuned to input the first 100 lines from the Shakespeare CSV file. Any longer and the code would take too long to run. The batch size was ran and determined to be a multiple of 5 times 128. Originally, this number was 128 and was also changed to have the model produce an output within a reasonable amount of time. "
   ]
  },
  {
   "cell_type": "markdown",
   "id": "a1a4e273-c32a-47ef-9951-2d9a32204b0d",
   "metadata": {},
   "source": [
    "#### Model"
   ]
  },
  {
   "cell_type": "markdown",
   "id": "262e33c1-ffd6-4148-9de2-cf1ea517c5c1",
   "metadata": {},
   "source": [
    "Below is the code to create the model with comments stating what each text block does."
   ]
  },
  {
   "cell_type": "code",
   "execution_count": 148,
   "id": "2378815a-0eec-48d6-ab21-235f4f8a881e",
   "metadata": {
    "tags": []
   },
   "outputs": [],
   "source": [
    "# Declare Training Data Parameters\n",
    "seq_len = 40\n",
    "data_X = []\n",
    "data_y = []\n",
    "\n",
    "# Load and preprocess the text data\n",
    "df_RNN = df_unique[:100]\n",
    "text = ' '.join(df_RNN.values).lower()  \n",
    "\n",
    "# Create Vocab\n",
    "chars = sorted(list(set(text)))\n",
    "num_chars = len(chars)\n",
    "\n",
    "# Map Char to Int and Int to Char\n",
    "char_to_int = {char: c1 for c1, char in enumerate(chars)}\n",
    "int_to_char = {c1: char for c1, char in enumerate(chars)}\n",
    "\n",
    "# Get Sequence for X and Y\n",
    "for c1 in range(0, len(text) - seq_len):\n",
    "    seq_in = text[c1:c1 + seq_len]\n",
    "    seq_out = text[c1 + seq_len]\n",
    "    data_X.append([char_to_int[char] for char in seq_in])\n",
    "    data_y.append(char_to_int[seq_out])\n",
    "\n",
    "# Normalize and One-hot encode\n",
    "X = np.reshape(data_X, (len(data_X), seq_len, 1))\n",
    "X = X / float(num_chars)\n",
    "y = np.eye(num_chars)[data_y]\n",
    "\n",
    "# Build RNN model with Multiple Layers\n",
    "model = tf.keras.Sequential([\n",
    "    tf.keras.layers.LSTM(256, input_shape=(X.shape[1], X.shape[2])),\n",
    "    tf.keras.layers.Dense(128, activation='relu'),\n",
    "    tf.keras.layers.Dense(num_chars, activation='softmax')\n",
    "])\n",
    "\n",
    "# Compile the Model, loss Selected Based On Single Class and Optimizer Because Text Input\n",
    "model.compile(loss='categorical_crossentropy', optimizer='adam')"
   ]
  },
  {
   "cell_type": "markdown",
   "id": "f3b3b827-6fa9-4249-9a64-c833eff8162a",
   "metadata": {},
   "source": [
    "Next is the function that is used to generate text from the model as well as calculate diversity metrics and the BLEU score."
   ]
  },
  {
   "cell_type": "code",
   "execution_count": 149,
   "id": "2c227e84-9dd3-4d0e-96e8-0064c3e5f8e1",
   "metadata": {},
   "outputs": [],
   "source": [
    "# Function for Text Generation\n",
    "def generate_text(epoch, temp):\n",
    "    \n",
    "    # Function to Get Next Character\n",
    "    def next_char_func(pred, temp):\n",
    "        pred = np.asarray(pred).astype('float64')\n",
    "        pred = np.log(pred) / temp\n",
    "        exp_preds = np.exp(pred)\n",
    "        pred = exp_preds / np.sum(exp_preds)\n",
    "        prob = np.random.multinomial(1, pred, 1)\n",
    "        return np.argmax(prob)\n",
    "\n",
    "    # Generate Characters\n",
    "    if epoch % 2 == 0:\n",
    "        start_index = np.random.randint(0, len(data_X) - seq_len - 1)\n",
    "        text_gen = text[start_index:start_index + seq_len]\n",
    "        text_out = text_gen\n",
    "\n",
    "        # Create Characters\n",
    "        for c1 in range(40):\n",
    "            x = np.reshape([char_to_int[char] for char in text_gen], (1, seq_len, 1))\n",
    "            x = x / float(num_chars)\n",
    "            pred = model.predict(x, verbose=0)[0]\n",
    "            next_index = next_char_func(pred, temp)\n",
    "            next_char = int_to_char[next_index]\n",
    "            text_out += next_char\n",
    "            text_gen = text_gen[1:] + next_char\n",
    "            \n",
    "        print()\n",
    "        print(text_out)\n",
    "\n",
    "        # Get Diversity Metrics Function\n",
    "        def div_met(text):\n",
    "            tkns = nltk.word_tokenize(text)\n",
    "            tkns_cnt = nltk.FreqDist(tkns)\n",
    "            total_count = len(tkns)\n",
    "            prob = [count / total_count for count in tkns_cnt.values()]\n",
    "            entropy = -np.sum([p * np.log2(p) for p in prob])\n",
    "            diversity_metric = 1 / (entropy + 1e-7)  \n",
    "            return diversity_metric\n",
    "\n",
    "        # Calculate BLEU score\n",
    "        ref = [text_gen.split()]  \n",
    "        cand = text_out.split()  \n",
    "        bleu_score = sentence_bleu(ref, cand)\n",
    "        print(\"BLEU score:\", bleu_score)\n",
    "\n",
    "        # Calculate diversity metric\n",
    "        diversity = div_met(' '.join(cand))\n",
    "        print(\"Diversity metric:\", diversity)"
   ]
  },
  {
   "cell_type": "markdown",
   "id": "2f38033d-c808-4cc9-84c4-fba193694640",
   "metadata": {},
   "source": [
    "Finally, here is where the code generates an ouput using temperature as an adjustable input."
   ]
  },
  {
   "cell_type": "code",
   "execution_count": 150,
   "id": "981d72de-e7ee-43f8-8178-81a66663b1d1",
   "metadata": {},
   "outputs": [
    {
     "name": "stdout",
     "output_type": "stream",
     "text": [
      "Temperature Value: 0.5\n",
      "Epoch 1/10\n",
      "7/7 [==============================] - ETA: 0s - loss: 3.4251\n",
      ", and breathe short-winded accents of ne   s      n wn   n n  :  est    h    :qi\n",
      "BLEU score: 0.5129497107827519\n",
      "Diversity metric: 0.2709941456137781\n",
      "7/7 [==============================] - 24s 3s/step - loss: 3.4251\n",
      "Epoch 2/10\n",
      "7/7 [==============================] - 14s 2s/step - loss: 3.0931\n",
      "Epoch 3/10\n",
      "7/7 [==============================] - ETA: 0s - loss: 2.9912\n",
      "ld, that ever-valiant and approved scot, t e   ie  t  rehrn nrslndell  i  lee t \n",
      "BLEU score: 0.5512003357447272\n",
      "Diversity metric: 0.2709941456137781\n",
      "7/7 [==============================] - 19s 3s/step - loss: 2.9912\n",
      "Epoch 4/10\n",
      "7/7 [==============================] - 14s 2s/step - loss: 2.9477\n",
      "Epoch 5/10\n",
      "7/7 [==============================] - ETA: 0s - loss: 2.9280\n",
      " in cradle-clothes our children where th t t  e   llia esteenrdhe   emn ef  e e \n",
      "BLEU score: 0.5512003357447272\n",
      "Diversity metric: 0.28930456678411803\n",
      "7/7 [==============================] - 18s 3s/step - loss: 2.9280\n",
      "Epoch 6/10\n",
      "7/7 [==============================] - 13s 2s/step - loss: 2.9210\n",
      "Epoch 7/10\n",
      "7/7 [==============================] - ETA: 0s - loss: 2.9196\n",
      "like the meteors of a troubled heaven, ae h  a  ndter weo       tr i  eoeu on i \n",
      "BLEU score: 0.479676449968321\n",
      "Diversity metric: 0.2533118703699303\n",
      "7/7 [==============================] - 17s 2s/step - loss: 2.9196\n",
      "Epoch 8/10\n",
      "7/7 [==============================] - 14s 2s/step - loss: 2.9177\n",
      "Epoch 9/10\n",
      "7/7 [==============================] - ETA: 0s - loss: 2.9178\n",
      "est a son, a son who is the theme of honifnseeeee h ment ei esc   oonol oe ls  r\n",
      "BLEU score: 0.3665882729601239\n",
      "Diversity metric: 0.2426049054518589\n",
      "7/7 [==============================] - 17s 3s/step - loss: 2.9178\n",
      "Epoch 10/10\n",
      "7/7 [==============================] - 13s 2s/step - loss: 2.9154\n",
      "\n",
      "Temperature Value: 1\n",
      "Epoch 1/10\n",
      "7/7 [==============================] - ETA: 0s - loss: 2.9167\n",
      " is sweet fortune's minion and her prides'' tntdhfpaosco e ,r dheerl terorhn ler\n",
      "BLEU score: 0.3805803001674946\n",
      "Diversity metric: 0.24999999375000015\n",
      "7/7 [==============================] - 17s 3s/step - loss: 2.9167\n",
      "Epoch 2/10\n",
      "7/7 [==============================] - 13s 2s/step - loss: 2.9163\n",
      "Epoch 3/10\n",
      "7/7 [==============================] - ETA: 0s - loss: 2.9140\n",
      " makest me sad and makest me sin in envyln dnatnahs e dlno nhcedhriinig   td o  \n",
      "BLEU score: 0.3237722713145643\n",
      "Diversity metric: 0.27470836741075033\n",
      "7/7 [==============================] - 17s 3s/step - loss: 2.9140\n",
      "Epoch 4/10\n",
      "7/7 [==============================] - 14s 2s/step - loss: 2.9136\n",
      "Epoch 5/10\n",
      "7/7 [==============================] - ETA: 0s - loss: 2.9164\n",
      " for he that brought them, in the very ho eao,bt  gklf   utlnoamits f n    feil \n",
      "BLEU score: 0.3237722713145643\n",
      "Diversity metric: 0.24637739063238012\n",
      "7/7 [==============================] - 17s 2s/step - loss: 2.9164\n",
      "Epoch 6/10\n",
      "7/7 [==============================] - 13s 2s/step - loss: 2.9144\n",
      "Epoch 7/10\n",
      "7/7 [==============================] - ETA: 0s - loss: 2.9124\n",
      " gentle cousin westmoreland, what yesterloeai eeu h  s , o tronshieehf hdbhfoea \n",
      "BLEU score: 0.5156626918239822\n",
      "Diversity metric: 0.281960690920819\n",
      "7/7 [==============================] - 15s 2s/step - loss: 2.9124\n",
      "Epoch 8/10\n",
      "7/7 [==============================] - 13s 2s/step - loss: 2.9145\n",
      "Epoch 9/10\n",
      "7/7 [==============================] - ETA: 0s - loss: 2.9126\n",
      "oody hour, as by discharge of their arti  yyhshitydn etas wfgtlool iie ae ieob w\n",
      "BLEU score: 0.40016016019225\n",
      "Diversity metric: 0.24999999375000015\n",
      "7/7 [==============================] - 17s 2s/step - loss: 2.9126\n",
      "Epoch 10/10\n",
      "7/7 [==============================] - 14s 2s/step - loss: 2.9116\n",
      "\n"
     ]
    }
   ],
   "source": [
    "for temp in [0.5, 1]:\n",
    "    print(\"Temperature Value:\", temp)\n",
    "    text_generation_callback = LambdaCallback(on_epoch_end=lambda epoch, logs: generate_text(epoch, temp))\n",
    "    model.fit(X, y, epochs=10, batch_size=128*5, callbacks=[text_generation_callback])\n",
    "    print()"
   ]
  },
  {
   "cell_type": "markdown",
   "id": "93c09939-aa1a-4c1f-8287-47436b0bbdb6",
   "metadata": {},
   "source": [
    "#### Summary"
   ]
  },
  {
   "cell_type": "markdown",
   "id": "be63725f-2d32-4ae8-90c7-b5cbbff246f0",
   "metadata": {},
   "source": [
    "The model is able to produce text that isn't as coherent as regular text. There are several reasons why this might be: the data might be cluttered due to the prevalance of the articles, conjunctions, pronouns, and other artifacts that are signature of the English language, more layers need to be added, a higher epoch number, smaller batch size, or a different model should be used. There are multiple areas that can be fine-tuned when it comes to producing a more high quality Shakespeare text generator."
   ]
  },
  {
   "cell_type": "markdown",
   "id": "71403f59-07c6-4a46-860e-19b5cdd9ebc3",
   "metadata": {
    "tags": []
   },
   "source": [
    "#### Evaluation Metrics"
   ]
  },
  {
   "cell_type": "markdown",
   "id": "655c0f76-65e5-4a2c-91c6-016afd54fd00",
   "metadata": {},
   "source": [
    "With more epocs, the BLEU score slightly rises which means that the generated text is looks more human. The BLEU score is also higher when the temperature is set at 0.5. As for the diversity metric, this remains the same with each evaluation regardless of the number of epochs or temperature. These are both areas of improvement that is addressed in the Future Improvement Opportunities Section."
   ]
  },
  {
   "cell_type": "markdown",
   "id": "de0f955f-0623-446b-99ff-dc738c43feb4",
   "metadata": {},
   "source": [
    "#### Model Comparison"
   ]
  },
  {
   "cell_type": "markdown",
   "id": "a4e4f44e-834f-4649-a83a-46a790eaef6c",
   "metadata": {},
   "source": [
    "Since the BLEAU score seemed to max out at approximately 0.50, this meant that more epochs weren't necessary. Thus, the model could be stopped around approximately 5 epochs in this case. As for the diversity metric, the epoch value was found to have no effect. When it comes to temperature, a lower value was shown to have a higher BLEU score. This means that the temperature should be 0.5 or perhaps lower."
   ]
  },
  {
   "cell_type": "markdown",
   "id": "6a1d78db-b7f6-4a75-9048-586190418913",
   "metadata": {},
   "source": [
    "## Discussion and Conclusion"
   ]
  },
  {
   "cell_type": "markdown",
   "id": "13321abf-c737-48c6-97ff-d7d8b5a2d84d",
   "metadata": {},
   "source": [
    "#### Lessons Learned"
   ]
  },
  {
   "cell_type": "markdown",
   "id": "65bc9be1-0e98-4130-b623-19c6eae93298",
   "metadata": {},
   "source": [
    "The data set was also not resized earlier and having problems running through the RNN which took a large amount of time to rectify. Thus, dimensions would be evaluated and fine-tuned before the rest of the model. Before breaking up the code into multiple functions, the RNN was in an entire block which made debugging difficult. Thus, if this project were done again, sectioning the code would be implemented first. Before settling on Shakespeare, images of Pokemon were consulted as a part of a CNN. This was deemed to be too complicated  and thus text was settled on.  "
   ]
  },
  {
   "cell_type": "markdown",
   "id": "fe472655-6910-4b48-b509-315d779045d4",
   "metadata": {},
   "source": [
    "#### Mistakes"
   ]
  },
  {
   "cell_type": "markdown",
   "id": "f84d4cb8-7dca-423d-ad8c-c75abd3e0a53",
   "metadata": {},
   "source": [
    "The epochs, batch size, and training set were originally set to time-consuming values and the model had trouble compiling within an adequate time frame. "
   ]
  },
  {
   "cell_type": "markdown",
   "id": "e568a0e2-7669-4359-bf60-c8f0152708a6",
   "metadata": {},
   "source": [
    "#### Future Improvement Opportunities"
   ]
  },
  {
   "cell_type": "markdown",
   "id": "03ce1747-a730-4792-a2dd-774c2749ff86",
   "metadata": {},
   "source": [
    "With more devices or computers available, a smaller batch size, larger epoch count, more layers, and more of the data frame (instead of the first 100 rows) could be used to evaluate the model. There would also be an opportunity to test the addition of more intermediate layers to the model and with more hyperparameters.  "
   ]
  },
  {
   "cell_type": "markdown",
   "id": "4cccf09d-89a4-484b-912e-21f8e276dae7",
   "metadata": {},
   "source": [
    "## APA Citations\n",
    "[1] Larsen, Liam. (2017 June 22). Shakespeare Plays. Kaggle. https://www.kaggle.com/datasets/kingburrito666/shakespeare-plays"
   ]
  },
  {
   "cell_type": "code",
   "execution_count": null,
   "id": "92275e7f-8b39-4915-82b5-7dbf4bd1a74b",
   "metadata": {},
   "outputs": [],
   "source": []
  }
 ],
 "metadata": {
  "kernelspec": {
   "display_name": "Python 3 (ipykernel)",
   "language": "python",
   "name": "python3"
  },
  "language_info": {
   "codemirror_mode": {
    "name": "ipython",
    "version": 3
   },
   "file_extension": ".py",
   "mimetype": "text/x-python",
   "name": "python",
   "nbconvert_exporter": "python",
   "pygments_lexer": "ipython3",
   "version": "3.7.15"
  }
 },
 "nbformat": 4,
 "nbformat_minor": 5
}