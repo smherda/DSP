{
 "cells": [
  {
   "cell_type": "markdown",
   "id": "85212b1b-c3c8-482b-958b-205d28623989",
   "metadata": {},
   "source": [
    "# DTSA 5509: Supervised Learning of Olympic Athletes\n",
    "## Introduction to Machine Learning Supervised Learning"
   ]
  },
  {
   "cell_type": "markdown",
   "id": "23a09ecf-053f-4f10-971e-5ac98c350096",
   "metadata": {},
   "source": [
    "## Topic"
   ]
  },
  {
   "cell_type": "markdown",
   "id": "792705ae-8891-43c2-a6f5-f20eb0c05450",
   "metadata": {},
   "source": [
    "The following project is about the analysis of Olympic athletes when it comes to age, height, weight, medals won, and the year participated in. The data is first cleaned and reviewed for Exploratory Data Analysis or EDA. After visually inspecting the data and checking the resulting values, the fact on whether a subgroup is necessary will be chosen due to the smoothness of data within this data frame. In the next step, multiple models which are used such as the Linear Regression, Ridge, Lasso, and Random Forest Regressor to see if there is a correlation between the age, height, and weight for medals won. The goal is to determine whether or not these physical attributes have a contribution when it comes to winning a medal. After, a linear regression is applied to see if there have been changes over the years for these features since the Olympic's inception. The reason this information is valuable is because coaches and athletes might want to know if there is a certain advantage when it comes to these features and whether to pursue a particular sport. Weight is also a feature that can be slightly modified and unveiled correlations can be incredibly useful for Olympic participants."
   ]
  },
  {
   "cell_type": "markdown",
   "id": "d81985b2-c79d-4fbf-b5f4-d2280a0ae4f5",
   "metadata": {},
   "source": [
    "## Data Information"
   ]
  },
  {
   "cell_type": "markdown",
   "id": "de589b51-d167-4c0f-ad3a-dba0ce2999fd",
   "metadata": {},
   "source": [
    "#### Summary"
   ]
  },
  {
   "cell_type": "markdown",
   "id": "7c0d8d6f-d0f9-445d-96be-d0908a9799e0",
   "metadata": {},
   "source": [
    "The following paper will analyze a public dataset from Kaggle which holds information about all athletes that have attended from 1896 up until 2016. [1] For those that are from the US, the data is in metric units and the height is represented in centimeters and the weight is in kilograms. [1] The data provided from the site was labeled, \"120 years of Olympic history: athletes and results\" and is stored in a CSV file called \"athlete_events\". [1] The citation for the data provided can be found at the end of this report under the APA Citations."
   ]
  },
  {
   "cell_type": "markdown",
   "id": "5e800894-748a-446a-aca9-3891e9147211",
   "metadata": {},
   "source": [
    "#### Import Libraries"
   ]
  },
  {
   "cell_type": "code",
   "execution_count": 1,
   "id": "f382ef60-47c2-4d8b-aaa5-a741ee226bcd",
   "metadata": {
    "tags": []
   },
   "outputs": [],
   "source": [
    "import warnings\n",
    "import pandas as pd\n",
    "import numpy as np\n",
    "import matplotlib.pyplot as plt\n",
    "import statsmodels.api as sm\n",
    "import seaborn as sns\n",
    "from sklearn.model_selection import cross_val_score\n",
    "from sklearn.linear_model import LinearRegression\n",
    "from sklearn.preprocessing import LabelEncoder\n",
    "from sklearn.linear_model import LinearRegression, Ridge, Lasso\n",
    "from sklearn.ensemble import RandomForestRegressor"
   ]
  },
  {
   "cell_type": "markdown",
   "id": "a7b2e520-9017-4f53-908b-a9a831a05c12",
   "metadata": {
    "tags": []
   },
   "source": [
    "#### Hide Warnings"
   ]
  },
  {
   "cell_type": "markdown",
   "id": "04990e28-d1d7-4887-a387-b321b8117bcd",
   "metadata": {},
   "source": [
    "Hide unneccessary warnings before running rest of code."
   ]
  },
  {
   "cell_type": "code",
   "execution_count": 2,
   "id": "c3594a96-566b-4688-84f2-29b6f03fd8ac",
   "metadata": {},
   "outputs": [],
   "source": [
    "warnings.filterwarnings('ignore', category=pd.core.common.SettingWithCopyWarning)"
   ]
  },
  {
   "cell_type": "markdown",
   "id": "5a1dc4ad-6482-4476-aba2-7df00a2ee12a",
   "metadata": {},
   "source": [
    "#### Read Files from CSV"
   ]
  },
  {
   "cell_type": "code",
   "execution_count": 3,
   "id": "c6fceec5-ba83-45db-b6b1-6fb9c5d9f2a8",
   "metadata": {},
   "outputs": [],
   "source": [
    "df_csv = pd.read_csv('./athlete_events.csv')\n",
    "\n",
    "# Save to Separate Data Frame\n",
    "df = df_csv"
   ]
  },
  {
   "cell_type": "markdown",
   "id": "153ee87a-36a9-4b1d-ab79-d1283bc0d3d4",
   "metadata": {
    "tags": []
   },
   "source": [
    "#### Space and Size"
   ]
  },
  {
   "cell_type": "markdown",
   "id": "5125319d-166c-44bf-8e56-d28a5374f899",
   "metadata": {},
   "source": [
    "The space and size for the data frame is shown below. Output is the memory, column size, and row size."
   ]
  },
  {
   "cell_type": "code",
   "execution_count": 4,
   "id": "90d8bbc1-9bc8-45c6-bd8a-bc497ef33144",
   "metadata": {},
   "outputs": [
    {
     "name": "stdout",
     "output_type": "stream",
     "text": [
      "Memory: 32534048 bytes\n",
      "Rows: 271116\n",
      "Columns: 15\n"
     ]
    }
   ],
   "source": [
    "# Function for Checking Memory and Size\n",
    "def MemCheck(df):\n",
    "    # Get Data Frame Space\n",
    "    df_mem = df.memory_usage().sum()\n",
    "    print(\"Memory:\", df_mem, \"bytes\")\n",
    "\n",
    "    # Get Row and Column Count\n",
    "    num_row, num_col = df.shape\n",
    "    print(\"Rows:\", num_row)\n",
    "    print(\"Columns:\", num_col)\n",
    "    \n",
    "MemCheck(df_csv)"
   ]
  },
  {
   "cell_type": "markdown",
   "id": "9c81597a-6bf0-438b-bcf7-0f9e1aa40353",
   "metadata": {
    "tags": []
   },
   "source": [
    "#### Evaluate the data types and column names. "
   ]
  },
  {
   "cell_type": "markdown",
   "id": "b1bfbd8a-10f3-44dd-9bea-00f2ad2d73b6",
   "metadata": {},
   "source": [
    "The columns are shown below with the associate data types between the chevrons or the “<” and “>” symbols. There are objects or also called strings, integers (int), and floats."
   ]
  },
  {
   "cell_type": "code",
   "execution_count": 5,
   "id": "03ab5440-dca6-4a89-87bf-72e2aa95d02e",
   "metadata": {
    "tags": []
   },
   "outputs": [
    {
     "name": "stdout",
     "output_type": "stream",
     "text": [
      "'ID': <class 'numpy.dtype[int64]'>\n",
      "'Name': <class 'numpy.dtype[object_]'>\n",
      "'Sex': <class 'numpy.dtype[object_]'>\n",
      "'Age': <class 'numpy.dtype[float64]'>\n",
      "'Height': <class 'numpy.dtype[float64]'>\n",
      "'Weight': <class 'numpy.dtype[float64]'>\n",
      "'Team': <class 'numpy.dtype[object_]'>\n",
      "'NOC': <class 'numpy.dtype[object_]'>\n",
      "'Games': <class 'numpy.dtype[object_]'>\n",
      "'Year': <class 'numpy.dtype[int64]'>\n",
      "'Season': <class 'numpy.dtype[object_]'>\n",
      "'City': <class 'numpy.dtype[object_]'>\n",
      "'Sport': <class 'numpy.dtype[object_]'>\n",
      "'Event': <class 'numpy.dtype[object_]'>\n",
      "'Medal': <class 'numpy.dtype[object_]'>\n"
     ]
    }
   ],
   "source": [
    "# Get Data Types\n",
    "for col in df.columns:\n",
    "    print(\"'\" + col + \"': \" + str(type(df[col].dtype)))"
   ]
  },
  {
   "cell_type": "code",
   "execution_count": 6,
   "id": "cf584e46-fdcc-49ee-8cf5-4b4e77eba9bf",
   "metadata": {},
   "outputs": [
    {
     "data": {
      "text/html": [
       "<div>\n",
       "<style scoped>\n",
       "    .dataframe tbody tr th:only-of-type {\n",
       "        vertical-align: middle;\n",
       "    }\n",
       "\n",
       "    .dataframe tbody tr th {\n",
       "        vertical-align: top;\n",
       "    }\n",
       "\n",
       "    .dataframe thead th {\n",
       "        text-align: right;\n",
       "    }\n",
       "</style>\n",
       "<table border=\"1\" class=\"dataframe\">\n",
       "  <thead>\n",
       "    <tr style=\"text-align: right;\">\n",
       "      <th></th>\n",
       "      <th>ID</th>\n",
       "      <th>Name</th>\n",
       "      <th>Sex</th>\n",
       "      <th>Age</th>\n",
       "      <th>Height</th>\n",
       "      <th>Weight</th>\n",
       "      <th>Team</th>\n",
       "      <th>NOC</th>\n",
       "      <th>Games</th>\n",
       "      <th>Year</th>\n",
       "      <th>Season</th>\n",
       "      <th>City</th>\n",
       "      <th>Sport</th>\n",
       "      <th>Event</th>\n",
       "      <th>Medal</th>\n",
       "    </tr>\n",
       "  </thead>\n",
       "  <tbody>\n",
       "    <tr>\n",
       "      <th>0</th>\n",
       "      <td>1</td>\n",
       "      <td>A Dijiang</td>\n",
       "      <td>M</td>\n",
       "      <td>24.0</td>\n",
       "      <td>180.0</td>\n",
       "      <td>80.0</td>\n",
       "      <td>China</td>\n",
       "      <td>CHN</td>\n",
       "      <td>1992 Summer</td>\n",
       "      <td>1992</td>\n",
       "      <td>Summer</td>\n",
       "      <td>Barcelona</td>\n",
       "      <td>Basketball</td>\n",
       "      <td>Basketball Men's Basketball</td>\n",
       "      <td>NaN</td>\n",
       "    </tr>\n",
       "    <tr>\n",
       "      <th>1</th>\n",
       "      <td>2</td>\n",
       "      <td>A Lamusi</td>\n",
       "      <td>M</td>\n",
       "      <td>23.0</td>\n",
       "      <td>170.0</td>\n",
       "      <td>60.0</td>\n",
       "      <td>China</td>\n",
       "      <td>CHN</td>\n",
       "      <td>2012 Summer</td>\n",
       "      <td>2012</td>\n",
       "      <td>Summer</td>\n",
       "      <td>London</td>\n",
       "      <td>Judo</td>\n",
       "      <td>Judo Men's Extra-Lightweight</td>\n",
       "      <td>NaN</td>\n",
       "    </tr>\n",
       "    <tr>\n",
       "      <th>2</th>\n",
       "      <td>3</td>\n",
       "      <td>Gunnar Nielsen Aaby</td>\n",
       "      <td>M</td>\n",
       "      <td>24.0</td>\n",
       "      <td>NaN</td>\n",
       "      <td>NaN</td>\n",
       "      <td>Denmark</td>\n",
       "      <td>DEN</td>\n",
       "      <td>1920 Summer</td>\n",
       "      <td>1920</td>\n",
       "      <td>Summer</td>\n",
       "      <td>Antwerpen</td>\n",
       "      <td>Football</td>\n",
       "      <td>Football Men's Football</td>\n",
       "      <td>NaN</td>\n",
       "    </tr>\n",
       "    <tr>\n",
       "      <th>3</th>\n",
       "      <td>4</td>\n",
       "      <td>Edgar Lindenau Aabye</td>\n",
       "      <td>M</td>\n",
       "      <td>34.0</td>\n",
       "      <td>NaN</td>\n",
       "      <td>NaN</td>\n",
       "      <td>Denmark/Sweden</td>\n",
       "      <td>DEN</td>\n",
       "      <td>1900 Summer</td>\n",
       "      <td>1900</td>\n",
       "      <td>Summer</td>\n",
       "      <td>Paris</td>\n",
       "      <td>Tug-Of-War</td>\n",
       "      <td>Tug-Of-War Men's Tug-Of-War</td>\n",
       "      <td>Gold</td>\n",
       "    </tr>\n",
       "    <tr>\n",
       "      <th>4</th>\n",
       "      <td>5</td>\n",
       "      <td>Christine Jacoba Aaftink</td>\n",
       "      <td>F</td>\n",
       "      <td>21.0</td>\n",
       "      <td>185.0</td>\n",
       "      <td>82.0</td>\n",
       "      <td>Netherlands</td>\n",
       "      <td>NED</td>\n",
       "      <td>1988 Winter</td>\n",
       "      <td>1988</td>\n",
       "      <td>Winter</td>\n",
       "      <td>Calgary</td>\n",
       "      <td>Speed Skating</td>\n",
       "      <td>Speed Skating Women's 500 metres</td>\n",
       "      <td>NaN</td>\n",
       "    </tr>\n",
       "  </tbody>\n",
       "</table>\n",
       "</div>"
      ],
      "text/plain": [
       "   ID                      Name Sex   Age  Height  Weight            Team  \\\n",
       "0   1                 A Dijiang   M  24.0   180.0    80.0           China   \n",
       "1   2                  A Lamusi   M  23.0   170.0    60.0           China   \n",
       "2   3       Gunnar Nielsen Aaby   M  24.0     NaN     NaN         Denmark   \n",
       "3   4      Edgar Lindenau Aabye   M  34.0     NaN     NaN  Denmark/Sweden   \n",
       "4   5  Christine Jacoba Aaftink   F  21.0   185.0    82.0     Netherlands   \n",
       "\n",
       "   NOC        Games  Year  Season       City          Sport  \\\n",
       "0  CHN  1992 Summer  1992  Summer  Barcelona     Basketball   \n",
       "1  CHN  2012 Summer  2012  Summer     London           Judo   \n",
       "2  DEN  1920 Summer  1920  Summer  Antwerpen       Football   \n",
       "3  DEN  1900 Summer  1900  Summer      Paris     Tug-Of-War   \n",
       "4  NED  1988 Winter  1988  Winter    Calgary  Speed Skating   \n",
       "\n",
       "                              Event Medal  \n",
       "0       Basketball Men's Basketball   NaN  \n",
       "1      Judo Men's Extra-Lightweight   NaN  \n",
       "2           Football Men's Football   NaN  \n",
       "3       Tug-Of-War Men's Tug-Of-War  Gold  \n",
       "4  Speed Skating Women's 500 metres   NaN  "
      ]
     },
     "execution_count": 6,
     "metadata": {},
     "output_type": "execute_result"
    }
   ],
   "source": [
    "# Review\n",
    "df.head(5)"
   ]
  },
  {
   "cell_type": "markdown",
   "id": "3c4be35e-0562-4290-bc40-1e71bbdd880d",
   "metadata": {},
   "source": [
    "## Data Preprocessing and Cleaning"
   ]
  },
  {
   "cell_type": "markdown",
   "id": "7a32b679-af3c-47bb-8d2b-3e3b3ca49edc",
   "metadata": {},
   "source": [
    "#### Removal of Features\n",
    "For this analysis, all features other than 'Age', 'Height', 'Weight', 'Year', 'Event', 'Medal' will be removed. Other columns do not add any used information to the data frame and will be potentially inconvenient during analysis."
   ]
  },
  {
   "cell_type": "code",
   "execution_count": 7,
   "id": "6406df55-b229-40d2-a1c4-f575910002e2",
   "metadata": {},
   "outputs": [],
   "source": [
    "df = df[['Age', 'Height', 'Weight', 'Year', 'Event', 'Medal']]"
   ]
  },
  {
   "cell_type": "markdown",
   "id": "7adcae54-80cc-4a56-be55-c9e435d48187",
   "metadata": {},
   "source": [
    "#### Replace Column Values"
   ]
  },
  {
   "cell_type": "markdown",
   "id": "f4753bf0-2438-4557-9a0b-1fdaa3009d4f",
   "metadata": {},
   "source": [
    "Those that entered the Olympics, but did not receive a medal are given a NA value for their 'Medal\" column. Thus, this needs to be rectified by replacing the values with a 'None' string. "
   ]
  },
  {
   "cell_type": "code",
   "execution_count": 8,
   "id": "9aa6d152-8fdf-44dd-af39-36446450c1ce",
   "metadata": {},
   "outputs": [],
   "source": [
    "# Fill in Empty Medal Values with 'None'\n",
    "df.loc[df['Medal'].isna(), 'Medal'] = 'None'"
   ]
  },
  {
   "cell_type": "markdown",
   "id": "56a503de-285a-4db3-9161-f414b649553e",
   "metadata": {},
   "source": [
    "#### Removal of Rows with NA Values"
   ]
  },
  {
   "cell_type": "markdown",
   "id": "c72a0e25-ae25-4593-bea0-01dd68349e86",
   "metadata": {},
   "source": [
    "The other columns except for 'Event' should be filled with a '0' value since the information from the rest of the row can be used for regression purposes. Since the 'Event' can't be imputed or infered, these rows will be dropped if there are NAs values for this column."
   ]
  },
  {
   "cell_type": "code",
   "execution_count": 9,
   "id": "d1922d35-7cc1-433e-b936-2890229d8bb0",
   "metadata": {},
   "outputs": [],
   "source": [
    "# Fill in NA Values with Zero\n",
    "for col in ['Age', 'Height', 'Weight', 'Year']: \n",
    "    df.loc[df[col].isna(), col] = 0"
   ]
  },
  {
   "cell_type": "markdown",
   "id": "60a5f4e1-b2cf-4bcf-b4ef-e7d7a5d78640",
   "metadata": {},
   "source": [
    "Check that the data table has had these changes applied."
   ]
  },
  {
   "cell_type": "code",
   "execution_count": 10,
   "id": "d44b1210-8ccd-4dd5-a1f2-c1064a3a6cdc",
   "metadata": {},
   "outputs": [
    {
     "name": "stdout",
     "output_type": "stream",
     "text": [
      "Age       False\n",
      "Height    False\n",
      "Weight    False\n",
      "Year      False\n",
      "Event     False\n",
      "Medal     False\n",
      "dtype: bool\n"
     ]
    }
   ],
   "source": [
    "# Check for missing values in each column\n",
    "col_na = df.isna().any()\n",
    "print(col_na)"
   ]
  },
  {
   "cell_type": "code",
   "execution_count": 11,
   "id": "b3327397-9eb9-4280-ad91-bee3f313c9e4",
   "metadata": {},
   "outputs": [
    {
     "data": {
      "text/html": [
       "<div>\n",
       "<style scoped>\n",
       "    .dataframe tbody tr th:only-of-type {\n",
       "        vertical-align: middle;\n",
       "    }\n",
       "\n",
       "    .dataframe tbody tr th {\n",
       "        vertical-align: top;\n",
       "    }\n",
       "\n",
       "    .dataframe thead th {\n",
       "        text-align: right;\n",
       "    }\n",
       "</style>\n",
       "<table border=\"1\" class=\"dataframe\">\n",
       "  <thead>\n",
       "    <tr style=\"text-align: right;\">\n",
       "      <th></th>\n",
       "      <th>Age</th>\n",
       "      <th>Height</th>\n",
       "      <th>Weight</th>\n",
       "      <th>Year</th>\n",
       "      <th>Event</th>\n",
       "      <th>Medal</th>\n",
       "    </tr>\n",
       "  </thead>\n",
       "  <tbody>\n",
       "    <tr>\n",
       "      <th>0</th>\n",
       "      <td>24.0</td>\n",
       "      <td>180.0</td>\n",
       "      <td>80.0</td>\n",
       "      <td>1992</td>\n",
       "      <td>Basketball Men's Basketball</td>\n",
       "      <td>None</td>\n",
       "    </tr>\n",
       "    <tr>\n",
       "      <th>1</th>\n",
       "      <td>23.0</td>\n",
       "      <td>170.0</td>\n",
       "      <td>60.0</td>\n",
       "      <td>2012</td>\n",
       "      <td>Judo Men's Extra-Lightweight</td>\n",
       "      <td>None</td>\n",
       "    </tr>\n",
       "    <tr>\n",
       "      <th>2</th>\n",
       "      <td>24.0</td>\n",
       "      <td>0.0</td>\n",
       "      <td>0.0</td>\n",
       "      <td>1920</td>\n",
       "      <td>Football Men's Football</td>\n",
       "      <td>None</td>\n",
       "    </tr>\n",
       "    <tr>\n",
       "      <th>4</th>\n",
       "      <td>21.0</td>\n",
       "      <td>185.0</td>\n",
       "      <td>82.0</td>\n",
       "      <td>1988</td>\n",
       "      <td>Speed Skating Women's 500 metres</td>\n",
       "      <td>None</td>\n",
       "    </tr>\n",
       "    <tr>\n",
       "      <th>5</th>\n",
       "      <td>21.0</td>\n",
       "      <td>185.0</td>\n",
       "      <td>82.0</td>\n",
       "      <td>1988</td>\n",
       "      <td>Speed Skating Women's 1,000 metres</td>\n",
       "      <td>None</td>\n",
       "    </tr>\n",
       "    <tr>\n",
       "      <th>6</th>\n",
       "      <td>25.0</td>\n",
       "      <td>185.0</td>\n",
       "      <td>82.0</td>\n",
       "      <td>1992</td>\n",
       "      <td>Speed Skating Women's 500 metres</td>\n",
       "      <td>None</td>\n",
       "    </tr>\n",
       "    <tr>\n",
       "      <th>7</th>\n",
       "      <td>25.0</td>\n",
       "      <td>185.0</td>\n",
       "      <td>82.0</td>\n",
       "      <td>1992</td>\n",
       "      <td>Speed Skating Women's 1,000 metres</td>\n",
       "      <td>None</td>\n",
       "    </tr>\n",
       "    <tr>\n",
       "      <th>8</th>\n",
       "      <td>27.0</td>\n",
       "      <td>185.0</td>\n",
       "      <td>82.0</td>\n",
       "      <td>1994</td>\n",
       "      <td>Speed Skating Women's 500 metres</td>\n",
       "      <td>None</td>\n",
       "    </tr>\n",
       "    <tr>\n",
       "      <th>9</th>\n",
       "      <td>27.0</td>\n",
       "      <td>185.0</td>\n",
       "      <td>82.0</td>\n",
       "      <td>1994</td>\n",
       "      <td>Speed Skating Women's 1,000 metres</td>\n",
       "      <td>None</td>\n",
       "    </tr>\n",
       "    <tr>\n",
       "      <th>10</th>\n",
       "      <td>31.0</td>\n",
       "      <td>188.0</td>\n",
       "      <td>75.0</td>\n",
       "      <td>1992</td>\n",
       "      <td>Cross Country Skiing Men's 10 kilometres</td>\n",
       "      <td>None</td>\n",
       "    </tr>\n",
       "  </tbody>\n",
       "</table>\n",
       "</div>"
      ],
      "text/plain": [
       "     Age  Height  Weight  Year                                     Event Medal\n",
       "0   24.0   180.0    80.0  1992               Basketball Men's Basketball  None\n",
       "1   23.0   170.0    60.0  2012              Judo Men's Extra-Lightweight  None\n",
       "2   24.0     0.0     0.0  1920                   Football Men's Football  None\n",
       "4   21.0   185.0    82.0  1988          Speed Skating Women's 500 metres  None\n",
       "5   21.0   185.0    82.0  1988        Speed Skating Women's 1,000 metres  None\n",
       "6   25.0   185.0    82.0  1992          Speed Skating Women's 500 metres  None\n",
       "7   25.0   185.0    82.0  1992        Speed Skating Women's 1,000 metres  None\n",
       "8   27.0   185.0    82.0  1994          Speed Skating Women's 500 metres  None\n",
       "9   27.0   185.0    82.0  1994        Speed Skating Women's 1,000 metres  None\n",
       "10  31.0   188.0    75.0  1992  Cross Country Skiing Men's 10 kilometres  None"
      ]
     },
     "execution_count": 11,
     "metadata": {},
     "output_type": "execute_result"
    }
   ],
   "source": [
    "df[df['Medal'] == 'None'].head(10)"
   ]
  },
  {
   "cell_type": "markdown",
   "id": "6b9f27c3-7176-4536-8b9f-bddb43efe4c6",
   "metadata": {},
   "source": [
    "#### Data Post-Processing"
   ]
  },
  {
   "cell_type": "markdown",
   "id": "cb246528-698b-4b18-88bc-72ca578c0733",
   "metadata": {},
   "source": [
    "Below is a snapshot of the new cleaned data."
   ]
  },
  {
   "cell_type": "code",
   "execution_count": 12,
   "id": "a0b518b0-f3f8-41dc-b27a-c4b646d61565",
   "metadata": {},
   "outputs": [
    {
     "data": {
      "text/html": [
       "<div>\n",
       "<style scoped>\n",
       "    .dataframe tbody tr th:only-of-type {\n",
       "        vertical-align: middle;\n",
       "    }\n",
       "\n",
       "    .dataframe tbody tr th {\n",
       "        vertical-align: top;\n",
       "    }\n",
       "\n",
       "    .dataframe thead th {\n",
       "        text-align: right;\n",
       "    }\n",
       "</style>\n",
       "<table border=\"1\" class=\"dataframe\">\n",
       "  <thead>\n",
       "    <tr style=\"text-align: right;\">\n",
       "      <th></th>\n",
       "      <th>Age</th>\n",
       "      <th>Height</th>\n",
       "      <th>Weight</th>\n",
       "      <th>Year</th>\n",
       "      <th>Event</th>\n",
       "      <th>Medal</th>\n",
       "    </tr>\n",
       "  </thead>\n",
       "  <tbody>\n",
       "    <tr>\n",
       "      <th>0</th>\n",
       "      <td>24.0</td>\n",
       "      <td>180.0</td>\n",
       "      <td>80.0</td>\n",
       "      <td>1992</td>\n",
       "      <td>Basketball Men's Basketball</td>\n",
       "      <td>None</td>\n",
       "    </tr>\n",
       "    <tr>\n",
       "      <th>1</th>\n",
       "      <td>23.0</td>\n",
       "      <td>170.0</td>\n",
       "      <td>60.0</td>\n",
       "      <td>2012</td>\n",
       "      <td>Judo Men's Extra-Lightweight</td>\n",
       "      <td>None</td>\n",
       "    </tr>\n",
       "    <tr>\n",
       "      <th>2</th>\n",
       "      <td>24.0</td>\n",
       "      <td>0.0</td>\n",
       "      <td>0.0</td>\n",
       "      <td>1920</td>\n",
       "      <td>Football Men's Football</td>\n",
       "      <td>None</td>\n",
       "    </tr>\n",
       "    <tr>\n",
       "      <th>3</th>\n",
       "      <td>34.0</td>\n",
       "      <td>0.0</td>\n",
       "      <td>0.0</td>\n",
       "      <td>1900</td>\n",
       "      <td>Tug-Of-War Men's Tug-Of-War</td>\n",
       "      <td>Gold</td>\n",
       "    </tr>\n",
       "    <tr>\n",
       "      <th>4</th>\n",
       "      <td>21.0</td>\n",
       "      <td>185.0</td>\n",
       "      <td>82.0</td>\n",
       "      <td>1988</td>\n",
       "      <td>Speed Skating Women's 500 metres</td>\n",
       "      <td>None</td>\n",
       "    </tr>\n",
       "  </tbody>\n",
       "</table>\n",
       "</div>"
      ],
      "text/plain": [
       "    Age  Height  Weight  Year                             Event Medal\n",
       "0  24.0   180.0    80.0  1992       Basketball Men's Basketball  None\n",
       "1  23.0   170.0    60.0  2012      Judo Men's Extra-Lightweight  None\n",
       "2  24.0     0.0     0.0  1920           Football Men's Football  None\n",
       "3  34.0     0.0     0.0  1900       Tug-Of-War Men's Tug-Of-War  Gold\n",
       "4  21.0   185.0    82.0  1988  Speed Skating Women's 500 metres  None"
      ]
     },
     "execution_count": 12,
     "metadata": {},
     "output_type": "execute_result"
    }
   ],
   "source": [
    "df.head(5)"
   ]
  },
  {
   "cell_type": "markdown",
   "id": "acd0490a-380d-4a8f-91a8-f9440074540e",
   "metadata": {},
   "source": [
    "#### About Duplicates\n",
    "Since the data doesn't remove athletes who have competed multiple times in the Olympics and removed the 'Name' columns prior, there might be replicates of the same 'Height' and 'Weight'. However, these are left intentionally since the goal is to determine the best height and weight for an Olympian within an 'Event' to qualify for the desired medal regardless of repetition. "
   ]
  },
  {
   "cell_type": "markdown",
   "id": "0204e472-f7de-45eb-9bdc-9b4e3af616d5",
   "metadata": {},
   "source": [
    "#### Space and Size"
   ]
  },
  {
   "cell_type": "markdown",
   "id": "c80932eb-697f-4475-85ee-0f2c770240c4",
   "metadata": {},
   "source": [
    "The space and size for the data frame after preprocesesing is shown below."
   ]
  },
  {
   "cell_type": "code",
   "execution_count": 13,
   "id": "2285c72f-e9e8-46ae-bff8-5baf75ff61ee",
   "metadata": {},
   "outputs": [
    {
     "name": "stdout",
     "output_type": "stream",
     "text": [
      "Memory: 13013696 bytes\n",
      "Rows: 271116\n",
      "Columns: 6\n"
     ]
    }
   ],
   "source": [
    "MemCheck(df)"
   ]
  },
  {
   "cell_type": "markdown",
   "id": "23a24fe1-7454-48a9-ac62-9baafa0fdf45",
   "metadata": {},
   "source": [
    "#### Discussions\n",
    "The 'Age', 'Height', 'Weight', 'Year', and 'Medal' columns were modified to have respective values and rows were checked for NAs. Since the data came with data types already assigned to it, there wasn't a need to change this aspect of the data frame. Data munging also wasn't necessary since the CSV file was imported nicely into the data frame. Since a large portion of the data was already pretreated, either the Kaggle user was thorough with the data scraping or the process of obtaining an athelete's data is very precise at the source."
   ]
  },
  {
   "cell_type": "markdown",
   "id": "0fc4a58a-b87f-4dcf-927c-cc31020275da",
   "metadata": {
    "tags": []
   },
   "source": [
    "## Exploratory Data Analysis (EDA)\n",
    "#### Purpose\n",
    "Due to the sheer amount of size of the data, EDA was necessary. First, an analysis of the 'Age', 'Weight', and 'Height' were visually inspected through histograms and box plots. After, a correlation matrix was taken to see if there was any correlation between the features."
   ]
  },
  {
   "cell_type": "markdown",
   "id": "66035531-96fb-4161-a20a-bc23ddaaaaed",
   "metadata": {},
   "source": [
    "#### Histogram"
   ]
  },
  {
   "cell_type": "code",
   "execution_count": 14,
   "id": "bf65bd54-c58d-406e-9412-c50882490dbe",
   "metadata": {},
   "outputs": [
    {
     "data": {
      "image/png": "[encoded data removed]",
      "text/plain": [
       "<Figure size 640x480 with 2 Axes>"
      ]
     },
     "metadata": {},
     "output_type": "display_data"
    },
    {
     "name": "stdout",
     "output_type": "stream",
     "text": [
      "Histogram Values:\n",
      "[  9474  32303 177744  41279   7738   1833    531    203      6      5]\n",
      "\n",
      "Histogram Edges:\n",
      "[ 0.   9.7 19.4 29.1 38.8 48.5 58.2 67.9 77.6 87.3 97. ]\n",
      "\n",
      "Box Values: \n",
      "min    10.0\n",
      "25%    21.0\n",
      "50%    24.0\n",
      "75%    28.0\n",
      "max    97.0\n",
      "Name: Age, dtype: float64\n"
     ]
    },
    {
     "data": {
      "image/png": "[encoded data removed]",
      "text/plain": [
       "<Figure size 640x480 with 2 Axes>"
      ]
     },
     "metadata": {},
     "output_type": "display_data"
    },
    {
     "name": "stdout",
     "output_type": "stream",
     "text": [
      "Histogram Values:\n",
      "[ 62875   2018  71748 106234  24900   2696    557     77      8      3]\n",
      "\n",
      "Histogram Edges:\n",
      "[  0.   21.4  42.8  64.2  85.6 107.  128.4 149.8 171.2 192.6 214. ]\n",
      "\n",
      "Box Values: \n",
      "min     25.0\n",
      "25%     60.0\n",
      "50%     70.0\n",
      "75%     79.0\n",
      "max    214.0\n",
      "Name: Weight, dtype: float64\n"
     ]
    },
    {
     "data": {
      "image/png": "[encoded data removed]",
      "text/plain": [
       "<Figure size 640x480 with 2 Axes>"
      ]
     },
     "metadata": {},
     "output_type": "display_data"
    },
    {
     "name": "stdout",
     "output_type": "stream",
     "text": [
      "Histogram Values:\n",
      "[ 60171      0      0      0      0     41  10835 136089  63009    971]\n",
      "\n",
      "Histogram Edges:\n",
      "[  0.   22.6  45.2  67.8  90.4 113.  135.6 158.2 180.8 203.4 226. ]\n",
      "\n",
      "Box Values: \n",
      "min    127.0\n",
      "25%    168.0\n",
      "50%    175.0\n",
      "75%    183.0\n",
      "max    226.0\n",
      "Name: Height, dtype: float64\n"
     ]
    }
   ],
   "source": [
    "# Function for Generating Histograms and Boxes\n",
    "def histBox(dfIn):\n",
    "\n",
    "    # Remove Data with 0's that Were Imputed Earlier\n",
    "    df_hist = df_box = dfIn[dfIn[col] != 0]\n",
    "\n",
    "    # Generate Histogram\n",
    "    plt.subplot(1, 2, 1)\n",
    "    plt.hist(df_hist[col], bins=10)\n",
    "    plt.xlabel(col)\n",
    "    plt.ylabel('Frequency')\n",
    "    plt.title(f'Histogram of {col}')\n",
    "\n",
    "    # Add to Subplot\n",
    "    plt.subplot(1, 2, 2)\n",
    "\n",
    "    # Generate Box Plot\n",
    "    plt.boxplot(df_box[col])\n",
    "    plt.xlabel(col)\n",
    "    plt.title(f'Box Plot of {col}')\n",
    "\n",
    "    # Remove Box Plot Axis Label\n",
    "    plt.xticks([])\n",
    "\n",
    "    # Show Figure\n",
    "    plt.show()\n",
    "\n",
    "    # Get the histogram values\n",
    "    hist_val, hist_edg = np.histogram(df[col])\n",
    "    print('Histogram Values:')\n",
    "    print(hist_val)\n",
    "    print()\n",
    "    print('Histogram Edges:')\n",
    "    print(hist_edg)\n",
    "    print()\n",
    "\n",
    "    # Print Values\n",
    "    box_val = df_box.describe().loc[['min', '25%', '50%', '75%', 'max']]\n",
    "    print('Box Values: ')\n",
    "    print(box_val[col])\n",
    "\n",
    "for col in ['Age', 'Weight', 'Height']:\n",
    "    histBox(df)"
   ]
  },
  {
   "cell_type": "markdown",
   "id": "044b9ec4-08e2-4f35-a24b-f9e269cef057",
   "metadata": {},
   "source": [
    "#### Correlation Matrix"
   ]
  },
  {
   "cell_type": "markdown",
   "id": "7e7dd12b-5cc9-4991-8782-b27ff914f622",
   "metadata": {},
   "source": [
    "The correlation matrix is used to determine if there is any potential colinearity that might interfere with the model's output."
   ]
  },
  {
   "cell_type": "code",
   "execution_count": 15,
   "id": "e0a85942-78a5-4643-87be-ec86924e1c4a",
   "metadata": {},
   "outputs": [
    {
     "data": {
      "image/png": "[encoded data removed]",
      "text/plain": [
       "<Figure size 640x480 with 2 Axes>"
      ]
     },
     "metadata": {},
     "output_type": "display_data"
    }
   ],
   "source": [
    "# Get Correlation Matrix\n",
    "corr_mat = df[['Age', 'Height', 'Weight']].corr()\n",
    "sns.heatmap(corr_mat, annot=True)\n",
    "plt.title('Correlation Matrix')\n",
    "plt.show()"
   ]
  },
  {
   "cell_type": "markdown",
   "id": "32ab78b2-053a-421b-91e9-23f86dac7c48",
   "metadata": {
    "tags": []
   },
   "source": [
    "#### Difficulties "
   ]
  },
  {
   "cell_type": "markdown",
   "id": "da7f015d-cf69-4cd3-99d7-c8bfe229c2bd",
   "metadata": {},
   "source": [
    "Due to the eccentricities of the sports, the box plots shows a significant spread when it came to outliers indicating that some sports might have preferences for certain body types. Since the sports varied widely from gymnastics to swimming to golf, the decision to pick a specific sport for analysis was done after the EDA."
   ]
  },
  {
   "cell_type": "markdown",
   "id": "c44f702c-842b-45ed-8bfd-d7ed95796ab4",
   "metadata": {},
   "source": [
    "#### Summary, Discussion, and Findings"
   ]
  },
  {
   "cell_type": "markdown",
   "id": "f79b92c5-c0a2-4e84-bb76-726226b6fac7",
   "metadata": {},
   "source": [
    "Surprisingly, across all Olympians the strongest correlation was between height and weight. When it came to age, there was hardly a correlation between those other two features. The average height, weight, and age depicted in the histograms and box plots were as expected with figures hovering around 24 years old, 70 kilograms, and 175 centimeters. Surprisingly, the height had a stronger spread than the weight meaning that statistically, an athlete was more likely to be more similar in weight than height. "
   ]
  },
  {
   "cell_type": "markdown",
   "id": "e224e82b-87ad-4574-8b65-32c807ccf27b",
   "metadata": {},
   "source": [
    "#### Conclusions "
   ]
  },
  {
   "cell_type": "markdown",
   "id": "9c03ec40-d50b-417c-b540-6afdb2bc0987",
   "metadata": {},
   "source": [
    "Due to the spread and variance for each of these values prior to analysis into how this would tie into winning a gold medal, an event was decided to be specifically chosen to reduce the influence of the different sports on each other. "
   ]
  },
  {
   "cell_type": "markdown",
   "id": "b372ec9e-df77-4957-90e7-0f9d9154fbc7",
   "metadata": {},
   "source": [
    "## Results"
   ]
  },
  {
   "cell_type": "markdown",
   "id": "27f4a42e-3d55-4ed7-b3b7-b56332b95361",
   "metadata": {
    "tags": []
   },
   "source": [
    "#### Feature Selection"
   ]
  },
  {
   "cell_type": "markdown",
   "id": "f2644159-2d01-47bf-aa7d-5368fd60f4e4",
   "metadata": {},
   "source": [
    "Since there was such a large distribution of 'Height' and 'Weight', the 'Event' column was reviewed to see if narrowing this down would help with eliminating the subgroups within the EDA producted. The 'Event' column was examined by the amount of participants that were the column and the top 10 with the largest amount of participants were examined."
   ]
  },
  {
   "cell_type": "code",
   "execution_count": 16,
   "id": "c9e7218e-966d-44bf-aea7-2f4fb1329845",
   "metadata": {},
   "outputs": [
    {
     "name": "stdout",
     "output_type": "stream",
     "text": [
      "Football Men's Football                   5733\n",
      "Ice Hockey Men's Ice Hockey               4762\n",
      "Hockey Men's Hockey                       3958\n",
      "Water Polo Men's Water Polo               3358\n",
      "Basketball Men's Basketball               3280\n",
      "Cycling Men's Road Race, Individual       2947\n",
      "Gymnastics Men's Individual All-Around    2500\n",
      "Rowing Men's Coxed Eights                 2423\n",
      "Gymnastics Men's Team All-Around          2411\n",
      "Handball Men's Handball                   2264\n",
      "Athletics Men's Marathon                  2093\n",
      "Gymnastics Men's Parallel Bars            2049\n",
      "Gymnastics Men's Horizontal Bar           2041\n",
      "Gymnastics Men's Pommelled Horse          2031\n",
      "Gymnastics Men's Rings                    2020\n",
      "Athletics Men's 100 metres                1936\n",
      "Athletics Men's 4 x 100 metres Relay      1910\n",
      "Gymnastics Men's Floor Exercise           1880\n",
      "Gymnastics Men's Horse Vault              1868\n",
      "Volleyball Men's Volleyball               1861\n",
      "Name: Event, dtype: int64\n"
     ]
    }
   ],
   "source": [
    "# Get Counts Per 'Event'\n",
    "count = df['Event'].value_counts()\n",
    "\n",
    "# Review Top 10 Highest Count\n",
    "print(count.head(20))"
   ]
  },
  {
   "cell_type": "markdown",
   "id": "130917cb-58f8-4381-b58d-bbf898ace2e0",
   "metadata": {},
   "source": [
    "After examining the data, the following considerations were taken into account when selecting the event. First, \"What event is least likely to have changed over the past 120 years?\" to prevent an unwanted deviations and second, \"What are individual sports?\" to ensure that each individual was treated as an isolated contributor to the data set. Thus, the event chosen was \"Athletics Men's Marathon\". The length of the marathon has remained consistent since 1924, from when the mileage was changed from 26 miles to 26.2 miles [2], and there aren't any extra equiment that might have been modified by engineers throughout the decades. As for the mileage change, this is assumed not to significantly impact the final results."
   ]
  },
  {
   "cell_type": "markdown",
   "id": "5a77fe86-97e2-4f8e-994b-9908c45956d7",
   "metadata": {},
   "source": [
    "#### Histogram"
   ]
  },
  {
   "cell_type": "code",
   "execution_count": 17,
   "id": "2a56ef97-6ca8-490b-87f3-c2b8ff287ce5",
   "metadata": {},
   "outputs": [
    {
     "ename": "NameError",
     "evalue": "name 'df_narr' is not defined",
     "output_type": "error",
     "traceback": [
      "\u001b[1;31m---------------------------------------------------------------------------\u001b[0m",
      "\u001b[1;31mNameError\u001b[0m                                 Traceback (most recent call last)",
      "\u001b[1;32m~\\AppData\\Local\\Temp\\ipykernel_16080\\2636939246.py\u001b[0m in \u001b[0;36m<module>\u001b[1;34m\u001b[0m\n\u001b[0;32m      4\u001b[0m \u001b[1;31m# Obtain histograms and Box Plots\u001b[0m\u001b[1;33m\u001b[0m\u001b[1;33m\u001b[0m\u001b[1;33m\u001b[0m\u001b[0m\n\u001b[0;32m      5\u001b[0m \u001b[1;32mfor\u001b[0m \u001b[0mcol\u001b[0m \u001b[1;32min\u001b[0m \u001b[1;33m[\u001b[0m\u001b[1;34m'Age'\u001b[0m\u001b[1;33m,\u001b[0m \u001b[1;34m'Weight'\u001b[0m\u001b[1;33m,\u001b[0m \u001b[1;34m'Height'\u001b[0m\u001b[1;33m]\u001b[0m\u001b[1;33m:\u001b[0m\u001b[1;33m\u001b[0m\u001b[1;33m\u001b[0m\u001b[0m\n\u001b[1;32m----> 6\u001b[1;33m     \u001b[0mhistBox\u001b[0m\u001b[1;33m(\u001b[0m\u001b[0mdf_narr\u001b[0m\u001b[1;33m)\u001b[0m\u001b[1;33m\u001b[0m\u001b[1;33m\u001b[0m\u001b[0m\n\u001b[0m",
      "\u001b[1;31mNameError\u001b[0m: name 'df_narr' is not defined"
     ]
    }
   ],
   "source": [
    "# Assign Event\n",
    "df_med = df[df['Event'] == \"Athletics Men's Marathon\"]\n",
    "\n",
    "# Obtain histograms and Box Plots\n",
    "for col in ['Age', 'Weight', 'Height']:\n",
    "    histBox(df_narr)"
   ]
  },
  {
   "cell_type": "markdown",
   "id": "c92cf806-ac07-4948-b3d9-97069f4055cc",
   "metadata": {},
   "source": [
    "#### Notes"
   ]
  },
  {
   "cell_type": "markdown",
   "id": "1005c809-8b74-4d1a-8957-427a3dd6fa92",
   "metadata": {},
   "source": [
    "Compared to the previous data frame, the one that only observes marathon runners has a changed average when it comes to height, weight, and age. Instead of the average participant being 24 years old, 70 kilograms, and 175 centimeters, the average runner is a bit older, lighter, and shorter being 28 years old, 59 kilograms, and 170 centimeters. A visual comparison shows that the amount of outliers within the data set are less in previously shown."
   ]
  },
  {
   "cell_type": "markdown",
   "id": "638758f8-a51c-4281-9a82-a609f62e01c4",
   "metadata": {
    "tags": []
   },
   "source": [
    "#### Multiple OLS Models with Cross Validation"
   ]
  },
  {
   "cell_type": "markdown",
   "id": "3e1ebf59-b8b9-49ac-b69f-638f2c251bfe",
   "metadata": {},
   "source": [
    "Multi-linear OLS models such as the Linear Regression, Ridge, Lasso, and Random Forest Regressor were taken with cross validation to verify whether the models could be trusted below."
   ]
  },
  {
   "cell_type": "code",
   "execution_count": 89,
   "id": "7ed27864-3640-401c-9859-7146018b7ee7",
   "metadata": {},
   "outputs": [
    {
     "name": "stdout",
     "output_type": "stream",
     "text": [
      "                            OLS Regression Results                            \n",
      "==============================================================================\n",
      "Dep. Variable:                  Medal   R-squared:                       0.020\n",
      "Model:                            OLS   Adj. R-squared:                 -0.022\n",
      "Method:                 Least Squares   F-statistic:                    0.4794\n",
      "Date:                Sun, 25 Jun 2023   Prob (F-statistic):              0.698\n",
      "Time:                        18:39:26   Log-Likelihood:                -86.662\n",
      "No. Observations:                  73   AIC:                             181.3\n",
      "Df Residuals:                      69   BIC:                             190.5\n",
      "Df Model:                           3                                         \n",
      "Covariance Type:            nonrobust                                         \n",
      "==============================================================================\n",
      "                 coef    std err          t      P>|t|      [0.025      0.975]\n",
      "------------------------------------------------------------------------------\n",
      "Constant      -1.7715      2.599     -0.682      0.498      -6.956       3.413\n",
      "Height         0.0185      0.017      1.065      0.291      -0.016       0.053\n",
      "Weight        -0.0092      0.012     -0.763      0.448      -0.033       0.015\n",
      "Age            0.0036      0.022      0.166      0.868      -0.040       0.047\n",
      "==============================================================================\n",
      "Omnibus:                       46.880   Durbin-Watson:                   1.711\n",
      "Prob(Omnibus):                  0.000   Jarque-Bera (JB):                5.804\n",
      "Skew:                           0.065   Prob(JB):                       0.0549\n",
      "Kurtosis:                       1.625   Cond. No.                     5.00e+03\n",
      "==============================================================================\n",
      "\n",
      "Notes:\n",
      "[1] Standard Errors assume that the covariance matrix of the errors is correctly specified.\n",
      "[2] The condition number is large,  5e+03. This might indicate that there are\n",
      "strong multicollinearity or other numerical problems.\n",
      "\n",
      "Cross-Validation Scores: [-1.18292774 -0.33403174 -0.24490858 -0.10626493 -0.13558613]\n",
      "Average R-squared: -0.4007438249931587\n",
      "\n",
      "                            OLS Regression Results                            \n",
      "==============================================================================\n",
      "Dep. Variable:                  Medal   R-squared:                       0.020\n",
      "Model:                            OLS   Adj. R-squared:                 -0.022\n",
      "Method:                 Least Squares   F-statistic:                    0.4794\n",
      "Date:                Sun, 25 Jun 2023   Prob (F-statistic):              0.698\n",
      "Time:                        18:39:26   Log-Likelihood:                -86.662\n",
      "No. Observations:                  73   AIC:                             181.3\n",
      "Df Residuals:                      69   BIC:                             190.5\n",
      "Df Model:                           3                                         \n",
      "Covariance Type:            nonrobust                                         \n",
      "==============================================================================\n",
      "                 coef    std err          t      P>|t|      [0.025      0.975]\n",
      "------------------------------------------------------------------------------\n",
      "Constant      -1.7715      2.599     -0.682      0.498      -6.956       3.413\n",
      "Height         0.0185      0.017      1.065      0.291      -0.016       0.053\n",
      "Weight        -0.0092      0.012     -0.763      0.448      -0.033       0.015\n",
      "Age            0.0036      0.022      0.166      0.868      -0.040       0.047\n",
      "==============================================================================\n",
      "Omnibus:                       46.880   Durbin-Watson:                   1.711\n",
      "Prob(Omnibus):                  0.000   Jarque-Bera (JB):                5.804\n",
      "Skew:                           0.065   Prob(JB):                       0.0549\n",
      "Kurtosis:                       1.625   Cond. No.                     5.00e+03\n",
      "==============================================================================\n",
      "\n",
      "Notes:\n",
      "[1] Standard Errors assume that the covariance matrix of the errors is correctly specified.\n",
      "[2] The condition number is large,  5e+03. This might indicate that there are\n",
      "strong multicollinearity or other numerical problems.\n",
      "\n",
      "Cross-Validation Scores: [-1.18033688 -0.33373815 -0.24482747 -0.10628386 -0.13539092]\n",
      "Average R-squared: -0.4001154542050319\n",
      "\n",
      "                            OLS Regression Results                            \n",
      "==============================================================================\n",
      "Dep. Variable:                  Medal   R-squared:                       0.020\n",
      "Model:                            OLS   Adj. R-squared:                 -0.022\n",
      "Method:                 Least Squares   F-statistic:                    0.4794\n",
      "Date:                Sun, 25 Jun 2023   Prob (F-statistic):              0.698\n",
      "Time:                        18:39:26   Log-Likelihood:                -86.662\n",
      "No. Observations:                  73   AIC:                             181.3\n",
      "Df Residuals:                      69   BIC:                             190.5\n",
      "Df Model:                           3                                         \n",
      "Covariance Type:            nonrobust                                         \n",
      "==============================================================================\n",
      "                 coef    std err          t      P>|t|      [0.025      0.975]\n",
      "------------------------------------------------------------------------------\n",
      "Constant      -1.7715      2.599     -0.682      0.498      -6.956       3.413\n",
      "Height         0.0185      0.017      1.065      0.291      -0.016       0.053\n",
      "Weight        -0.0092      0.012     -0.763      0.448      -0.033       0.015\n",
      "Age            0.0036      0.022      0.166      0.868      -0.040       0.047\n",
      "==============================================================================\n",
      "Omnibus:                       46.880   Durbin-Watson:                   1.711\n",
      "Prob(Omnibus):                  0.000   Jarque-Bera (JB):                5.804\n",
      "Skew:                           0.065   Prob(JB):                       0.0549\n",
      "Kurtosis:                       1.625   Cond. No.                     5.00e+03\n",
      "==============================================================================\n",
      "\n",
      "Notes:\n",
      "[1] Standard Errors assume that the covariance matrix of the errors is correctly specified.\n",
      "[2] The condition number is large,  5e+03. This might indicate that there are\n",
      "strong multicollinearity or other numerical problems.\n",
      "\n",
      "Cross-Validation Scores: [-0.09375    -0.0742776  -0.13280893 -0.14479525 -0.00220856]\n",
      "Average R-squared: -0.08956806814686225\n",
      "\n",
      "                            OLS Regression Results                            \n",
      "==============================================================================\n",
      "Dep. Variable:                  Medal   R-squared:                       0.020\n",
      "Model:                            OLS   Adj. R-squared:                 -0.022\n",
      "Method:                 Least Squares   F-statistic:                    0.4794\n",
      "Date:                Sun, 25 Jun 2023   Prob (F-statistic):              0.698\n",
      "Time:                        18:39:27   Log-Likelihood:                -86.662\n",
      "No. Observations:                  73   AIC:                             181.3\n",
      "Df Residuals:                      69   BIC:                             190.5\n",
      "Df Model:                           3                                         \n",
      "Covariance Type:            nonrobust                                         \n",
      "==============================================================================\n",
      "                 coef    std err          t      P>|t|      [0.025      0.975]\n",
      "------------------------------------------------------------------------------\n",
      "Constant      -1.7715      2.599     -0.682      0.498      -6.956       3.413\n",
      "Height         0.0185      0.017      1.065      0.291      -0.016       0.053\n",
      "Weight        -0.0092      0.012     -0.763      0.448      -0.033       0.015\n",
      "Age            0.0036      0.022      0.166      0.868      -0.040       0.047\n",
      "==============================================================================\n",
      "Omnibus:                       46.880   Durbin-Watson:                   1.711\n",
      "Prob(Omnibus):                  0.000   Jarque-Bera (JB):                5.804\n",
      "Skew:                           0.065   Prob(JB):                       0.0549\n",
      "Kurtosis:                       1.625   Cond. No.                     5.00e+03\n",
      "==============================================================================\n",
      "\n",
      "Notes:\n",
      "[1] Standard Errors assume that the covariance matrix of the errors is correctly specified.\n",
      "[2] The condition number is large,  5e+03. This might indicate that there are\n",
      "strong multicollinearity or other numerical problems.\n",
      "\n",
      "Cross-Validation Scores: [-1.23585937 -0.28116438 -0.24818269 -0.44599677 -0.414952  ]\n",
      "Average R-squared: -0.5252310450125768\n",
      "\n"
     ]
    }
   ],
   "source": [
    "# Define OLS Function\n",
    "\n",
    "def OLSFun(df, XIn, yIn):\n",
    "\n",
    "    # Create Label Encoder\n",
    "    label_encoder = LabelEncoder()\n",
    "\n",
    "    # Encode the 'Medal' column\n",
    "    df['Medal'] = label_encoder.fit_transform(df['Medal'])\n",
    "\n",
    "    # Add Constant Column\n",
    "    df['Constant'] = 1\n",
    "\n",
    "    # Place into X and y OLS Variables\n",
    "    X = df[XIn]\n",
    "    y = df[yIn]\n",
    "\n",
    "    # Fit the OLS model\n",
    "    model = sm.OLS(y, X).fit()\n",
    "\n",
    "    # Create  Instance\n",
    "    model_comp = mod\n",
    "    \n",
    "    # Cross Validation\n",
    "    scores = cross_val_score(model_comp, X, y, cv=5, scoring='r2')\n",
    "\n",
    "    # Print Out Results\n",
    "    print(model.summary())\n",
    "    print()\n",
    "    print('Cross-Validation Scores:', scores)\n",
    "    print('Average R-squared:', scores.mean())\n",
    "    print()\n",
    "\n",
    "# Run Function\n",
    "for mod in [LinearRegression(), Ridge(), Lasso(), RandomForestRegressor()]:\n",
    "    try:\n",
    "        OLSFun(df_narr, ['Constant', 'Height', 'Weight', 'Age'], 'Medal')\n",
    "    except:\n",
    "        print(\"Unable to produce model:\", mod)"
   ]
  },
  {
   "cell_type": "markdown",
   "id": "8a59d6a0-78c5-4697-9455-742743438c6a",
   "metadata": {},
   "source": [
    "All of the models have negative average R squared values. This is showing that a model cannot be draw when it comes to evaluating the 'Age', 'Height', and 'Weight' to determine whether a marathon runner gets a gold medal from the Olympic contestents. The cross validation numbers also showed negative values for all of the models. The data has been preprocessed, so there is potentially some unforseeable issue affecting the results. The standard errors imply that there might be a high amount of covariance and thus colinearity needs to be checked again. "
   ]
  },
  {
   "cell_type": "markdown",
   "id": "46ddc175-7058-47e2-af9c-35c57c908a01",
   "metadata": {
    "tags": []
   },
   "source": [
    "#### Colinearity"
   ]
  },
  {
   "cell_type": "markdown",
   "id": "b1afb511-8db5-40fe-84ed-14c0cb050e68",
   "metadata": {},
   "source": [
    "Here the colinearity between 'Age', 'Height', and 'Weight' are reviewed again."
   ]
  },
  {
   "cell_type": "code",
   "execution_count": 90,
   "id": "5c698c30-6d7c-46a2-9b43-1dad3b7a32db",
   "metadata": {},
   "outputs": [
    {
     "name": "stdout",
     "output_type": "stream",
     "text": [
      "Event: Height\n",
      "             Age    Height    Weight\n",
      "Age     1.000000  0.358058  0.333728\n",
      "Height  0.358058  1.000000  0.945962\n",
      "Weight  0.333728  0.945962  1.000000\n",
      "\n"
     ]
    }
   ],
   "source": [
    "# Get Correlation Matrix\n",
    "corr_mat = df_narr[['Age', 'Height', 'Weight']].corr()\n",
    "\n",
    "# Print Correlation Matrix\n",
    "print(f\"Event: {col}\")\n",
    "print(corr_mat)\n",
    "print()"
   ]
  },
  {
   "cell_type": "markdown",
   "id": "2df9f364-be18-4d4d-a22c-3a86f291d26b",
   "metadata": {},
   "source": [
    "It appears that there is a strong colinearity between 'Height' and 'Weight'. Compared to the previous data frame which included all athletes, the age factor plays a stronger role in being strongly linked to height and weight in this selected data."
   ]
  },
  {
   "cell_type": "markdown",
   "id": "6889f912-8f2b-4b61-899d-eb8653e403b4",
   "metadata": {},
   "source": [
    "#### Feature Engineering"
   ]
  },
  {
   "cell_type": "markdown",
   "id": "bde63a13-a7ed-4c2b-9866-294dab923095",
   "metadata": {},
   "source": [
    "To combat the covariance, the height and weight are combined into a 'BMI' column and the function is run again to see if there are different results."
   ]
  },
  {
   "cell_type": "code",
   "execution_count": 91,
   "id": "6dd9c802-06db-4a3c-b950-d5940c634e11",
   "metadata": {},
   "outputs": [
    {
     "name": "stdout",
     "output_type": "stream",
     "text": [
      "                            OLS Regression Results                            \n",
      "==============================================================================\n",
      "Dep. Variable:                  Medal   R-squared:                       0.010\n",
      "Model:                            OLS   Adj. R-squared:                 -0.018\n",
      "Method:                 Least Squares   F-statistic:                    0.3587\n",
      "Date:                Sun, 25 Jun 2023   Prob (F-statistic):              0.700\n",
      "Time:                        18:40:18   Log-Likelihood:                -87.043\n",
      "No. Observations:                  73   AIC:                             180.1\n",
      "Df Residuals:                      70   BIC:                             187.0\n",
      "Df Model:                           2                                         \n",
      "Covariance Type:            nonrobust                                         \n",
      "==============================================================================\n",
      "                 coef    std err          t      P>|t|      [0.025      0.975]\n",
      "------------------------------------------------------------------------------\n",
      "Constant       1.2305      0.976      1.260      0.212      -0.717       3.178\n",
      "BMI         -255.7971    364.134     -0.702      0.485    -982.039     470.445\n",
      "Age            0.0086      0.021      0.411      0.682      -0.033       0.050\n",
      "==============================================================================\n",
      "Omnibus:                       54.574   Durbin-Watson:                   1.740\n",
      "Prob(Omnibus):                  0.000   Jarque-Bera (JB):                6.087\n",
      "Skew:                           0.085   Prob(JB):                       0.0477\n",
      "Kurtosis:                       1.596   Cond. No.                     1.09e+05\n",
      "==============================================================================\n",
      "\n",
      "Notes:\n",
      "[1] Standard Errors assume that the covariance matrix of the errors is correctly specified.\n",
      "[2] The condition number is large, 1.09e+05. This might indicate that there are\n",
      "strong multicollinearity or other numerical problems.\n",
      "\n",
      "Cross-Validation Scores: [-1.37919407 -0.22835151 -0.19506692 -0.13209133 -0.1269281 ]\n",
      "Average R-squared: -0.41232638822989187\n",
      "\n",
      "                            OLS Regression Results                            \n",
      "==============================================================================\n",
      "Dep. Variable:                  Medal   R-squared:                       0.010\n",
      "Model:                            OLS   Adj. R-squared:                 -0.018\n",
      "Method:                 Least Squares   F-statistic:                    0.3587\n",
      "Date:                Sun, 25 Jun 2023   Prob (F-statistic):              0.700\n",
      "Time:                        18:40:18   Log-Likelihood:                -87.043\n",
      "No. Observations:                  73   AIC:                             180.1\n",
      "Df Residuals:                      70   BIC:                             187.0\n",
      "Df Model:                           2                                         \n",
      "Covariance Type:            nonrobust                                         \n",
      "==============================================================================\n",
      "                 coef    std err          t      P>|t|      [0.025      0.975]\n",
      "------------------------------------------------------------------------------\n",
      "Constant       1.2305      0.976      1.260      0.212      -0.717       3.178\n",
      "BMI         -255.7971    364.134     -0.702      0.485    -982.039     470.445\n",
      "Age            0.0086      0.021      0.411      0.682      -0.033       0.050\n",
      "==============================================================================\n",
      "Omnibus:                       54.574   Durbin-Watson:                   1.740\n",
      "Prob(Omnibus):                  0.000   Jarque-Bera (JB):                6.087\n",
      "Skew:                           0.085   Prob(JB):                       0.0477\n",
      "Kurtosis:                       1.596   Cond. No.                     1.09e+05\n",
      "==============================================================================\n",
      "\n",
      "Notes:\n",
      "[1] Standard Errors assume that the covariance matrix of the errors is correctly specified.\n",
      "[2] The condition number is large, 1.09e+05. This might indicate that there are\n",
      "strong multicollinearity or other numerical problems.\n",
      "\n",
      "Cross-Validation Scores: [-0.12935603 -0.1368334  -0.13343135 -0.13417648 -0.14159895]\n",
      "Average R-squared: -0.13507924295374146\n",
      "\n",
      "                            OLS Regression Results                            \n",
      "==============================================================================\n",
      "Dep. Variable:                  Medal   R-squared:                       0.010\n",
      "Model:                            OLS   Adj. R-squared:                 -0.018\n",
      "Method:                 Least Squares   F-statistic:                    0.3587\n",
      "Date:                Sun, 25 Jun 2023   Prob (F-statistic):              0.700\n",
      "Time:                        18:40:18   Log-Likelihood:                -87.043\n",
      "No. Observations:                  73   AIC:                             180.1\n",
      "Df Residuals:                      70   BIC:                             187.0\n",
      "Df Model:                           2                                         \n",
      "Covariance Type:            nonrobust                                         \n",
      "==============================================================================\n",
      "                 coef    std err          t      P>|t|      [0.025      0.975]\n",
      "------------------------------------------------------------------------------\n",
      "Constant       1.2305      0.976      1.260      0.212      -0.717       3.178\n",
      "BMI         -255.7971    364.134     -0.702      0.485    -982.039     470.445\n",
      "Age            0.0086      0.021      0.411      0.682      -0.033       0.050\n",
      "==============================================================================\n",
      "Omnibus:                       54.574   Durbin-Watson:                   1.740\n",
      "Prob(Omnibus):                  0.000   Jarque-Bera (JB):                6.087\n",
      "Skew:                           0.085   Prob(JB):                       0.0477\n",
      "Kurtosis:                       1.596   Cond. No.                     1.09e+05\n",
      "==============================================================================\n",
      "\n",
      "Notes:\n",
      "[1] Standard Errors assume that the covariance matrix of the errors is correctly specified.\n",
      "[2] The condition number is large, 1.09e+05. This might indicate that there are\n",
      "strong multicollinearity or other numerical problems.\n",
      "\n",
      "Cross-Validation Scores: [-0.09375    -0.0742776  -0.13280893 -0.14479525 -0.00220856]\n",
      "Average R-squared: -0.08956806814686225\n",
      "\n",
      "                            OLS Regression Results                            \n",
      "==============================================================================\n",
      "Dep. Variable:                  Medal   R-squared:                       0.010\n",
      "Model:                            OLS   Adj. R-squared:                 -0.018\n",
      "Method:                 Least Squares   F-statistic:                    0.3587\n",
      "Date:                Sun, 25 Jun 2023   Prob (F-statistic):              0.700\n",
      "Time:                        18:40:18   Log-Likelihood:                -87.043\n",
      "No. Observations:                  73   AIC:                             180.1\n",
      "Df Residuals:                      70   BIC:                             187.0\n",
      "Df Model:                           2                                         \n",
      "Covariance Type:            nonrobust                                         \n",
      "==============================================================================\n",
      "                 coef    std err          t      P>|t|      [0.025      0.975]\n",
      "------------------------------------------------------------------------------\n",
      "Constant       1.2305      0.976      1.260      0.212      -0.717       3.178\n",
      "BMI         -255.7971    364.134     -0.702      0.485    -982.039     470.445\n",
      "Age            0.0086      0.021      0.411      0.682      -0.033       0.050\n",
      "==============================================================================\n",
      "Omnibus:                       54.574   Durbin-Watson:                   1.740\n",
      "Prob(Omnibus):                  0.000   Jarque-Bera (JB):                6.087\n",
      "Skew:                           0.085   Prob(JB):                       0.0477\n",
      "Kurtosis:                       1.596   Cond. No.                     1.09e+05\n",
      "==============================================================================\n",
      "\n",
      "Notes:\n",
      "[1] Standard Errors assume that the covariance matrix of the errors is correctly specified.\n",
      "[2] The condition number is large, 1.09e+05. This might indicate that there are\n",
      "strong multicollinearity or other numerical problems.\n",
      "\n",
      "Cross-Validation Scores: [-1.95023437 -0.34426712 -0.67848077 -0.3182129  -0.5303344 ]\n",
      "Average R-squared: -0.7643059141488491\n",
      "\n"
     ]
    }
   ],
   "source": [
    "# Feature Engineering\n",
    "df_narr['BMI'] = df_narr['Weight'] / df_narr['Height']**2\n",
    "\n",
    "# Run Function\n",
    "for mod in [LinearRegression(), Ridge(), Lasso(), RandomForestRegressor()]:\n",
    "    try:\n",
    "        OLSFun(df_narr, ['Constant', 'BMI', 'Age'], 'Medal')\n",
    "    except:\n",
    "        print(\"Unable to produce model:\", mod)"
   ]
  },
  {
   "cell_type": "markdown",
   "id": "04c58569-73ca-4039-8ec3-3f62d2e61cf5",
   "metadata": {},
   "source": [
    "For the R squared values, the scores did not improve much which suggests that more preprocessing or more evaluation of the data is needed. All values were negative and despite the Lasso value having the best R squared value, the model was still deemed inaccurate."
   ]
  },
  {
   "cell_type": "markdown",
   "id": "c335311c-3b6c-49cb-84f6-38d6e574199c",
   "metadata": {
    "tags": []
   },
   "source": [
    "#### Linear Regression Fit"
   ]
  },
  {
   "cell_type": "markdown",
   "id": "74c7d427-35f0-4ba3-b7a0-24cece5b3a7c",
   "metadata": {},
   "source": [
    "To see if there was a linear trend throughout the years since the Olympics within the event, the 'Age', 'Height', and 'Weight' for medal winners was plotted."
   ]
  },
  {
   "cell_type": "code",
   "execution_count": 99,
   "id": "6a9159f6-6c9e-47c1-8520-2d6c077e83cc",
   "metadata": {},
   "outputs": [
    {
     "data": {
      "image/png": "[encoded data removed]",
      "text/plain": [
       "<Figure size 640x480 with 1 Axes>"
      ]
     },
     "metadata": {},
     "output_type": "display_data"
    },
    {
     "data": {
      "image/png": "[encoded data removed]",
      "text/plain": [
       "<Figure size 640x480 with 1 Axes>"
      ]
     },
     "metadata": {},
     "output_type": "display_data"
    },
    {
     "data": {
      "image/png": "[encoded data removed]",
      "text/plain": [
       "<Figure size 640x480 with 1 Axes>"
      ]
     },
     "metadata": {},
     "output_type": "display_data"
    }
   ],
   "source": [
    "# Declare Function for Plots\n",
    "def RegPlot(x, y, ylabel):\n",
    "    sns.regplot(x=x, y=y)\n",
    "    plt.ylabel(ylabel)\n",
    "    plt.show()\n",
    "\n",
    "# Declare Col String\n",
    "col = 'Year'\n",
    "\n",
    "# Aggregate By Date\n",
    "df_gold = df_med[df_med['Medal'] == 'Gold']\n",
    "df_agg = df_gold.groupby(col).mean().reset_index()\n",
    "\n",
    "# Plot For Each Feature\n",
    "feat = ['Height', 'Age', 'Weight']\n",
    "\n",
    "RegPlot(df_agg[df_agg['Height'] != 0][col].values, df_agg[df_agg['Height'] != 0]['Height'].values, 'Height')\n",
    "RegPlot(df_agg[df_agg['Age'] != 0][col].values, df_agg[df_agg['Age'] != 0]['Age'].values, 'Age')\n",
    "RegPlot(df_agg[df_agg['Weight'] != 0][col].values, df_agg[df_agg['Weight'] != 0]['Weight'].values, 'Weight')"
   ]
  },
  {
   "cell_type": "markdown",
   "id": "a500b0e6-d7b0-4f84-9340-737c811e5ba4",
   "metadata": {},
   "source": [
    "The data shows that surprisingly, the heigth, weight, and age for the winners tended not to fluctuate, save for some outliers. "
   ]
  },
  {
   "cell_type": "markdown",
   "id": "c3c34e67-d575-4973-b732-d49c7dda0646",
   "metadata": {
    "tags": []
   },
   "source": [
    "#### Summary"
   ]
  },
  {
   "cell_type": "markdown",
   "id": "3ad1e7e1-b9e5-4a24-9371-f9e89873c767",
   "metadata": {},
   "source": [
    "There is a larger variance when it comes to comparing the general Olympic athlete to that of a marathon runner when it comes to age, height, and weight. Olympic athletes are on average 24 years old, 70 kilograms, and 175 centimeters while the average marathon runner is 28 years old, 59 kilograms, and 170 centimeters. There was a high correlation between height and weight that interferred with the results of the model. Despite inputting the features for height, weight, and age while taking into account the year, there was no connection between those values and winning a medal. The Random Forest model was able to draw the best model, but had a R squared value of 0.01 which meant that the model wasn't accurate. Seeing that none of the models were able to draw a reasonable inference from the height, weight, and age categories either the data needs to be preprocessed more or other models looked into. \n",
    "\n",
    "For both the general and specific case, there was a correlation between height and weight that resulted in covariance problems that interfered with generating a model. "
   ]
  },
  {
   "cell_type": "markdown",
   "id": "4177dc01-e6a4-4825-9139-9fec32b2ba0e",
   "metadata": {},
   "source": [
    "#### Training to Improve Process"
   ]
  },
  {
   "cell_type": "markdown",
   "id": "908db411-bfa1-42f3-a220-c225c342dfc5",
   "metadata": {},
   "source": [
    "For future models, the subgroup for the marathon runners should be divided even further into decades to see if there are trends there. Historical facts about the sport's event should be reviewed too as well as other features."
   ]
  },
  {
   "cell_type": "markdown",
   "id": "de0f955f-0623-446b-99ff-dc738c43feb4",
   "metadata": {},
   "source": [
    "#### Model Comparison"
   ]
  },
  {
   "cell_type": "markdown",
   "id": "2e4295a6-2aa6-47a0-b23d-6e8aa2c26ee8",
   "metadata": {},
   "source": [
    "The Random Forest model compared to all the others was deemed the best fit due to the R squared value. However, the fit was also significantly low for a model in general and thus more data anlysis should be done prior to creating these models."
   ]
  },
  {
   "cell_type": "markdown",
   "id": "6a1d78db-b7f6-4a75-9048-586190418913",
   "metadata": {},
   "source": [
    "## Discussion and Conclusion"
   ]
  },
  {
   "cell_type": "markdown",
   "id": "13321abf-c737-48c6-97ff-d7d8b5a2d84d",
   "metadata": {},
   "source": [
    "#### Lessons Learned"
   ]
  },
  {
   "cell_type": "markdown",
   "id": "2c2f7bae-1418-4135-9dbe-3f104647cc4f",
   "metadata": {},
   "source": [
    "For this, the model was too large and varied when first evaluating and reviewing the EDA. This took a considerable amount of time not shown in the paper with multiple models being generated. First, a subgroup should be chosen to save on time. Once a reliable model has been established, expanding outwards is recommended."
   ]
  },
  {
   "cell_type": "markdown",
   "id": "8238c273-22de-44bb-8004-af638380eb3c",
   "metadata": {},
   "source": [
    "#### Mistakes"
   ]
  },
  {
   "cell_type": "markdown",
   "id": "9008ff7a-1ae9-4a6f-b4a6-cacfb01f500c",
   "metadata": {},
   "source": [
    "Height and weight are strongly correlated to each other and should be combined with feature engineering. There are outliers due to the Olympics history that needs to be taken into account. When it comes to applying models to the Olympians, the data should be preprocessed more than what was shown in this paper."
   ]
  },
  {
   "cell_type": "markdown",
   "id": "65f0ca51-6538-444f-9632-bf6a9de0c4cd",
   "metadata": {},
   "source": [
    "#### Future Improvement Opportunities"
   ]
  },
  {
   "cell_type": "markdown",
   "id": "59df6a31-48a8-4e23-804b-cb5228ed33e6",
   "metadata": {},
   "source": [
    "For those that wish to continue, the recommendation is to chose multiple sports and compare these factors. Combine the height and weight column into a single one, keep other columns that might prove to be necessary, and narrow down a group to run analysis on."
   ]
  },
  {
   "cell_type": "markdown",
   "id": "4cccf09d-89a4-484b-912e-21f8e276dae7",
   "metadata": {},
   "source": [
    "## APA Citations\n",
    "[1] Rgriffin. (2018, June 15). 120 years of Olympic history: Athletes and results. Kaggle. https://www.kaggle.com/datasets/heesoo37/120-years-of-olympic-history-athletes-and-results"
   ]
  },
  {
   "cell_type": "markdown",
   "id": "6ae42343-2797-4ac3-b39d-24a8471e301a",
   "metadata": {},
   "source": [
    "[2] Marathon home. TimetoRun Marathon. (n.d.). https://www.time-to-run.com/marathon/articles/history#:~:text=For%20the%201908%20London%20Olympic%20games%20marathon%20the,first%20to%20hold%20the%20now%20official%20marathon%20distance. "
   ]
  },
  {
   "cell_type": "code",
   "execution_count": null,
   "id": "65d538f8-8f31-4c3f-a570-4b806a89e232",
   "metadata": {},
   "outputs": [],
   "source": []
  }
 ],
 "metadata": {
  "kernelspec": {
   "display_name": "Python 3 (ipykernel)",
   "language": "python",
   "name": "python3"
  },
  "language_info": {
   "codemirror_mode": {
    "name": "ipython",
    "version": 3
   },
   "file_extension": ".py",
   "mimetype": "text/x-python",
   "name": "python",
   "nbconvert_exporter": "python",
   "pygments_lexer": "ipython3",
   "version": "3.7.15"
  }
 },
 "nbformat": 4,
 "nbformat_minor": 5
}